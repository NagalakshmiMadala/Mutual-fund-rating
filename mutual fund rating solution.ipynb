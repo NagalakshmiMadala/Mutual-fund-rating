{
 "cells": [
  {
   "cell_type": "code",
   "execution_count": 1,
   "metadata": {
    "colab": {
     "base_uri": "https://localhost:8080/",
     "height": 34
    },
    "colab_type": "code",
    "id": "-fjKp5P43k-X",
    "outputId": "8b06031a-90d5-4c9f-bf8f-d6993ba7fc55"
   },
   "outputs": [
    {
     "name": "stdout",
     "output_type": "stream",
     "text": [
      "Drive already mounted at /content/gdrive; to attempt to forcibly remount, call drive.mount(\"/content/gdrive\", force_remount=True).\n"
     ]
    }
   ],
   "source": [
    "from google.colab import drive\n",
    "drive.mount('/content/gdrive')"
   ]
  },
  {
   "cell_type": "code",
   "execution_count": 2,
   "metadata": {
    "colab": {
     "base_uri": "https://localhost:8080/",
     "height": 168
    },
    "colab_type": "code",
    "id": "_Ubkkeuv3lZK",
    "outputId": "f3fcdc22-2a84-44ce-81d0-3d469c5725a9"
   },
   "outputs": [
    {
     "name": "stdout",
     "output_type": "stream",
     "text": [
      " Archive\t\t\t\t    'Information Analyzer'\n",
      "'Colab Notebooks'\t\t\t    'Memorable pics'\n",
      "'Copy of GLMR.ipynb'\t\t\t    'My baby'\n",
      "'Data science'\t\t\t\t    'New folder'\n",
      " Devops-Learning\t\t\t    'SAS '\n",
      " Documents\t\t\t\t    'SAS certificate'\n",
      " Git\t\t\t\t\t    'Udemy Complete Python Course '\n",
      "'Greatlakes Hackathon'\t\t\t     Useful\n",
      "'Great learning solutions for Assignments'\n"
     ]
    }
   ],
   "source": [
    "!ls \"/content/gdrive/My Drive/\""
   ]
  },
  {
   "cell_type": "markdown",
   "metadata": {
    "colab_type": "text",
    "id": "cK4Mmha5JpqF"
   },
   "source": []
  },
  {
   "cell_type": "code",
   "execution_count": 3,
   "metadata": {
    "colab": {
     "base_uri": "https://localhost:8080/",
     "height": 70
    },
    "colab_type": "code",
    "id": "Xnlb9t00rSBW",
    "outputId": "2b8b7aa5-f1c9-4a10-ce2c-39e7a15f6122"
   },
   "outputs": [
    {
     "name": "stderr",
     "output_type": "stream",
     "text": [
      "/usr/local/lib/python3.6/dist-packages/statsmodels/tools/_testing.py:19: FutureWarning: pandas.util.testing is deprecated. Use the functions in the public API at pandas.testing instead.\n",
      "  import pandas.util.testing as tm\n"
     ]
    }
   ],
   "source": [
    "%matplotlib inline\n",
    "import numpy as np\n",
    "import pandas as pd\n",
    "import time\n",
    "import matplotlib.pyplot as plt\n",
    "import seaborn as sns\n",
    "import warnings\n",
    "warnings.filterwarnings('ignore')"
   ]
  },
  {
   "cell_type": "code",
   "execution_count": 4,
   "metadata": {
    "colab": {
     "base_uri": "https://localhost:8080/",
     "height": 202
    },
    "colab_type": "code",
    "id": "il2KIiNyQPVb",
    "outputId": "5f8aff1a-d1ad-4ffc-bcbb-d1cd1543ed10"
   },
   "outputs": [
    {
     "name": "stdout",
     "output_type": "stream",
     "text": [
      "fund_config file shape: (25000, 4)\n",
      "fund_allocations file shape: (25000, 12)\n",
      "fund_ratios file shape: (25000, 8)\n",
      "fund_specs file shape: (25000, 9)\n",
      "other_specs file shape: (25000, 43)\n",
      "bond_ratings file shape: (25000, 12)\n",
      "return_3year file shape: (25000, 17)\n",
      "return_5year file shape: (25000, 17)\n",
      "return_10year file shape: (25000, 17)\n",
      "sample_submission file shape: (5000, 2)\n",
      "----timetaken is .....  0.579819917678833\n"
     ]
    }
   ],
   "source": [
    "starttime=time.time()\n",
    "\n",
    "fund_config=pd.read_csv(\"/content/gdrive/My Drive/Greatlakes Hackathon/fund_config.csv\")\n",
    "print('fund_config file shape:',fund_config.shape)\n",
    "\n",
    "fund_allocations=pd.read_csv(\"/content/gdrive/My Drive/Greatlakes Hackathon/fund_allocations.csv\")\n",
    "print('fund_allocations file shape:',fund_allocations.shape)\n",
    "      \n",
    "fund_ratios=pd.read_csv(\"/content/gdrive/My Drive/Greatlakes Hackathon/fund_ratios.csv\")\n",
    "print('fund_ratios file shape:',fund_ratios.shape)\n",
    "    \n",
    "fund_specs=pd.read_csv(\"/content/gdrive/My Drive/Greatlakes Hackathon/fund_specs.csv\")\n",
    "print('fund_specs file shape:',fund_specs.shape)\n",
    "      \n",
    "other_specs=pd.read_csv(\"/content/gdrive/My Drive/Greatlakes Hackathon/other_specs.csv\")\n",
    "print('other_specs file shape:',other_specs.shape)\n",
    "\n",
    "bond_ratings = pd.read_csv(\"/content/gdrive/My Drive/Greatlakes Hackathon/bond_ratings.csv\")\n",
    "print('bond_ratings file shape:',bond_ratings.shape)\n",
    "    \n",
    "return_3year=pd.read_csv(\"/content/gdrive/My Drive/Greatlakes Hackathon/return_3year.csv\")\n",
    "print('return_3year file shape:',return_3year.shape)\n",
    "      \n",
    "      \n",
    "return_5year=pd.read_csv(\"/content/gdrive/My Drive/Greatlakes Hackathon/return_5year.csv\")\n",
    "print('return_5year file shape:',return_5year.shape)\n",
    "\n",
    "      \n",
    "return_10year=pd.read_csv(\"/content/gdrive/My Drive/Greatlakes Hackathon/return_10year.csv\")\n",
    "print('return_10year file shape:',return_10year.shape)\n",
    "\n",
    "\n",
    "sample_submission=pd.read_csv(\"/content/gdrive/My Drive/Greatlakes Hackathon/sample_submission.csv\")\n",
    "print('sample_submission file shape:',sample_submission.shape)\n",
    "\n",
    "print(\"----timetaken is ..... \", (time.time()-starttime))"
   ]
  },
  {
   "cell_type": "code",
   "execution_count": 5,
   "metadata": {
    "colab": {
     "base_uri": "https://localhost:8080/",
     "height": 77
    },
    "colab_type": "code",
    "id": "oBS1CXvMQPVf",
    "outputId": "ae935144-1dae-4dba-fcc7-d5b368ae6bc9",
    "scrolled": true
   },
   "outputs": [
    {
     "data": {
      "text/html": [
       "<div>\n",
       "<style scoped>\n",
       "    .dataframe tbody tr th:only-of-type {\n",
       "        vertical-align: middle;\n",
       "    }\n",
       "\n",
       "    .dataframe tbody tr th {\n",
       "        vertical-align: top;\n",
       "    }\n",
       "\n",
       "    .dataframe thead th {\n",
       "        text-align: right;\n",
       "    }\n",
       "</style>\n",
       "<table border=\"1\" class=\"dataframe\">\n",
       "  <thead>\n",
       "    <tr style=\"text-align: right;\">\n",
       "      <th></th>\n",
       "      <th>category</th>\n",
       "      <th>parent_company</th>\n",
       "      <th>fund_id</th>\n",
       "      <th>fund_name</th>\n",
       "    </tr>\n",
       "  </thead>\n",
       "  <tbody>\n",
       "    <tr>\n",
       "      <th>0</th>\n",
       "      <td>Energy Limited Partnership</td>\n",
       "      <td>DWS</td>\n",
       "      <td>264614c6-5ac3-4146-ba26-1674b136cb40</td>\n",
       "      <td>DWS RREEF MLP &amp; Energy Infrastructure Fund - C...</td>\n",
       "    </tr>\n",
       "  </tbody>\n",
       "</table>\n",
       "</div>"
      ],
      "text/plain": [
       "                     category  ...                                          fund_name\n",
       "0  Energy Limited Partnership  ...  DWS RREEF MLP & Energy Infrastructure Fund - C...\n",
       "\n",
       "[1 rows x 4 columns]"
      ]
     },
     "execution_count": 5,
     "metadata": {
      "tags": []
     },
     "output_type": "execute_result"
    }
   ],
   "source": [
    "fund_config.head(1)"
   ]
  },
  {
   "cell_type": "code",
   "execution_count": 6,
   "metadata": {
    "colab": {
     "base_uri": "https://localhost:8080/",
     "height": 34
    },
    "colab_type": "code",
    "id": "a3bcG2gyQPVj",
    "outputId": "7c25b4c3-005d-4d16-f932-c02826462759",
    "scrolled": true
   },
   "outputs": [
    {
     "data": {
      "text/plain": [
       "Index(['category', 'parent_company', 'fund_id', 'fund_name'], dtype='object')"
      ]
     },
     "execution_count": 6,
     "metadata": {
      "tags": []
     },
     "output_type": "execute_result"
    }
   ],
   "source": [
    "fund_config.columns"
   ]
  },
  {
   "cell_type": "code",
   "execution_count": 7,
   "metadata": {
    "colab": {
     "base_uri": "https://localhost:8080/",
     "height": 67
    },
    "colab_type": "code",
    "id": "0FojiAfFQPVo",
    "outputId": "682744c6-1870-4879-cd14-ff32fbb481fb"
   },
   "outputs": [
    {
     "data": {
      "text/plain": [
       "Index(['fund_id', 'tag', 'fund_ratio_net_annual_expense', 'pb_ratio',\n",
       "       'ps_ratio', 'mmc', 'pc_ratio', 'pe_ratio'],\n",
       "      dtype='object')"
      ]
     },
     "execution_count": 7,
     "metadata": {
      "tags": []
     },
     "output_type": "execute_result"
    }
   ],
   "source": [
    "fund_ratios.columns"
   ]
  },
  {
   "cell_type": "code",
   "execution_count": 0,
   "metadata": {
    "colab": {},
    "colab_type": "code",
    "id": "tUtKBL-CQPVs",
    "scrolled": false
   },
   "outputs": [],
   "source": [
    "numeric_columns=['fund_ratio_net_annual_expense', 'pb_ratio',\n",
    "       'ps_ratio', 'mmc', 'pc_ratio', 'pe_ratio']"
   ]
  },
  {
   "cell_type": "code",
   "execution_count": 9,
   "metadata": {
    "colab": {
     "base_uri": "https://localhost:8080/",
     "height": 77
    },
    "colab_type": "code",
    "id": "Vko_oynDQPVx",
    "outputId": "94e2fa6c-eb42-450f-b33a-0ac364092add"
   },
   "outputs": [
    {
     "data": {
      "text/html": [
       "<div>\n",
       "<style scoped>\n",
       "    .dataframe tbody tr th:only-of-type {\n",
       "        vertical-align: middle;\n",
       "    }\n",
       "\n",
       "    .dataframe tbody tr th {\n",
       "        vertical-align: top;\n",
       "    }\n",
       "\n",
       "    .dataframe thead th {\n",
       "        text-align: right;\n",
       "    }\n",
       "</style>\n",
       "<table border=\"1\" class=\"dataframe\">\n",
       "  <thead>\n",
       "    <tr style=\"text-align: right;\">\n",
       "      <th></th>\n",
       "      <th>fund_id</th>\n",
       "      <th>tag</th>\n",
       "      <th>fund_ratio_net_annual_expense</th>\n",
       "      <th>pb_ratio</th>\n",
       "      <th>ps_ratio</th>\n",
       "      <th>mmc</th>\n",
       "      <th>pc_ratio</th>\n",
       "      <th>pe_ratio</th>\n",
       "    </tr>\n",
       "  </thead>\n",
       "  <tbody>\n",
       "    <tr>\n",
       "      <th>0</th>\n",
       "      <td>264614c6-5ac3-4146-ba26-1674b136cb40</td>\n",
       "      <td>67922</td>\n",
       "      <td>1.44</td>\n",
       "      <td>1.71</td>\n",
       "      <td>1.31</td>\n",
       "      <td>19,857.41</td>\n",
       "      <td>5.91</td>\n",
       "      <td>14.51</td>\n",
       "    </tr>\n",
       "  </tbody>\n",
       "</table>\n",
       "</div>"
      ],
      "text/plain": [
       "                                fund_id    tag  ...  pc_ratio  pe_ratio\n",
       "0  264614c6-5ac3-4146-ba26-1674b136cb40  67922  ...      5.91     14.51\n",
       "\n",
       "[1 rows x 8 columns]"
      ]
     },
     "execution_count": 9,
     "metadata": {
      "tags": []
     },
     "output_type": "execute_result"
    }
   ],
   "source": [
    "fund_ratios.head(1)"
   ]
  },
  {
   "cell_type": "code",
   "execution_count": 0,
   "metadata": {
    "colab": {},
    "colab_type": "code",
    "id": "fbL_LZVqQPV2",
    "scrolled": false
   },
   "outputs": [],
   "source": [
    "fund_ratios.replace(',', '', regex=True,inplace=True)"
   ]
  },
  {
   "cell_type": "code",
   "execution_count": 0,
   "metadata": {
    "colab": {},
    "colab_type": "code",
    "id": "ULsf6ch2QPV7"
   },
   "outputs": [],
   "source": [
    "fund_ratios[numeric_columns]=fund_ratios[numeric_columns].apply(pd.to_numeric,errors='coerce')"
   ]
  },
  {
   "cell_type": "code",
   "execution_count": 0,
   "metadata": {
    "colab": {},
    "colab_type": "code",
    "id": "syIZM4iXQPWA"
   },
   "outputs": [],
   "source": [
    "fund_conf_ratio=pd.merge(fund_config, fund_ratios, on = 'fund_id', how = 'inner')"
   ]
  },
  {
   "cell_type": "code",
   "execution_count": 0,
   "metadata": {
    "colab": {},
    "colab_type": "code",
    "id": "GVv79aSHQPWD"
   },
   "outputs": [],
   "source": [
    "fund_specs['inception_date'] = pd.to_datetime(fund_specs['inception_date'], format='%Y-%m-%d')"
   ]
  },
  {
   "cell_type": "code",
   "execution_count": 0,
   "metadata": {
    "colab": {},
    "colab_type": "code",
    "id": "0Aj6kusS25fR"
   },
   "outputs": [],
   "source": [
    "from datetime import datetime\n",
    "import math\n",
    "def convert_to_date_delta(d):\n",
    "    start_date = datetime(1924,7,7)\n",
    "    delta = (d-start_date).days\n",
    "    return delta"
   ]
  },
  {
   "cell_type": "code",
   "execution_count": 0,
   "metadata": {
    "colab": {},
    "colab_type": "code",
    "id": "MQcIRYtv1TZw"
   },
   "outputs": [],
   "source": [
    "fund_specs[\"inception_date_delta\"] = fund_specs[\"inception_date\"].apply(lambda x: convert_to_date_delta(x))"
   ]
  },
  {
   "cell_type": "code",
   "execution_count": 16,
   "metadata": {
    "colab": {
     "base_uri": "https://localhost:8080/",
     "height": 84
    },
    "colab_type": "code",
    "id": "iXQIlbHqQPWO",
    "outputId": "10894148-4cd5-47a0-8082-7f68b402d148"
   },
   "outputs": [
    {
     "data": {
      "text/plain": [
       "Index(['investment_class', 'currency', 'total_assets', 'yield',\n",
       "       'greatstone_rating', 'inception_date', 'tag', 'fund_size', 'return_ytd',\n",
       "       'inception_date_delta'],\n",
       "      dtype='object')"
      ]
     },
     "execution_count": 16,
     "metadata": {
      "tags": []
     },
     "output_type": "execute_result"
    }
   ],
   "source": [
    "fund_specs.columns"
   ]
  },
  {
   "cell_type": "code",
   "execution_count": 17,
   "metadata": {
    "colab": {
     "base_uri": "https://localhost:8080/",
     "height": 97
    },
    "colab_type": "code",
    "id": "9IcdUWGiQPWS",
    "outputId": "edff8b89-29e3-4c7c-a6d1-6f50e3d247ae",
    "scrolled": true
   },
   "outputs": [
    {
     "data": {
      "text/html": [
       "<div>\n",
       "<style scoped>\n",
       "    .dataframe tbody tr th:only-of-type {\n",
       "        vertical-align: middle;\n",
       "    }\n",
       "\n",
       "    .dataframe tbody tr th {\n",
       "        vertical-align: top;\n",
       "    }\n",
       "\n",
       "    .dataframe thead th {\n",
       "        text-align: right;\n",
       "    }\n",
       "</style>\n",
       "<table border=\"1\" class=\"dataframe\">\n",
       "  <thead>\n",
       "    <tr style=\"text-align: right;\">\n",
       "      <th></th>\n",
       "      <th>2014_category_return</th>\n",
       "      <th>2012_return_category</th>\n",
       "      <th>years_up</th>\n",
       "      <th>2018_return_category</th>\n",
       "      <th>tag</th>\n",
       "      <th>category_return_1year</th>\n",
       "      <th>cash_percent_of_portfolio</th>\n",
       "      <th>pc_ratio</th>\n",
       "      <th>2011_return_category</th>\n",
       "      <th>ytd_return_fund</th>\n",
       "      <th>years_down</th>\n",
       "      <th>2014_return_fund</th>\n",
       "      <th>category_return_1month</th>\n",
       "      <th>2013_return_fund</th>\n",
       "      <th>fund_return_3months</th>\n",
       "      <th>ytd_return_category</th>\n",
       "      <th>pb_ratio</th>\n",
       "      <th>2017_category_return</th>\n",
       "      <th>1_year_return_fund</th>\n",
       "      <th>pe_ratio</th>\n",
       "      <th>2015_return_fund</th>\n",
       "      <th>portfolio_convertable</th>\n",
       "      <th>3_months_return_category</th>\n",
       "      <th>portfolio_others</th>\n",
       "      <th>2016_return_fund</th>\n",
       "      <th>mmc</th>\n",
       "      <th>stock_percent_of_portfolio</th>\n",
       "      <th>2016_return_category</th>\n",
       "      <th>ps_ratio</th>\n",
       "      <th>2011_return_fund</th>\n",
       "      <th>2010_return_fund</th>\n",
       "      <th>fund_return_3years</th>\n",
       "      <th>2012_fund_return</th>\n",
       "      <th>2018_return_fund</th>\n",
       "      <th>2017_return_fund</th>\n",
       "      <th>greatstone_rating</th>\n",
       "      <th>category_ratio_net_annual_expense</th>\n",
       "      <th>category_return_2015</th>\n",
       "      <th>1_month_fund_return</th>\n",
       "      <th>bond_percentage_of_porfolio</th>\n",
       "      <th>portfolio_preferred</th>\n",
       "      <th>2010_return_category</th>\n",
       "      <th>2013_category_return</th>\n",
       "    </tr>\n",
       "  </thead>\n",
       "  <tbody>\n",
       "    <tr>\n",
       "      <th>0</th>\n",
       "      <td>NaN</td>\n",
       "      <td>NaN</td>\n",
       "      <td>1.0</td>\n",
       "      <td>-16.32</td>\n",
       "      <td>67922</td>\n",
       "      <td>13.05</td>\n",
       "      <td>1.19</td>\n",
       "      <td>5.91</td>\n",
       "      <td>NaN</td>\n",
       "      <td>20.19</td>\n",
       "      <td>2.0</td>\n",
       "      <td>NaN</td>\n",
       "      <td>4.2</td>\n",
       "      <td>NaN</td>\n",
       "      <td>20.19</td>\n",
       "      <td>19.1</td>\n",
       "      <td>1.71</td>\n",
       "      <td>-5.78</td>\n",
       "      <td>18.4</td>\n",
       "      <td>14.51</td>\n",
       "      <td>NaN</td>\n",
       "      <td>0.0</td>\n",
       "      <td>19.1</td>\n",
       "      <td>0.0</td>\n",
       "      <td>16.14</td>\n",
       "      <td>19,857.41</td>\n",
       "      <td>98.81</td>\n",
       "      <td>27.3</td>\n",
       "      <td>1.31</td>\n",
       "      <td>NaN</td>\n",
       "      <td>NaN</td>\n",
       "      <td>4.24</td>\n",
       "      <td>NaN</td>\n",
       "      <td>-12.23</td>\n",
       "      <td>-3.31</td>\n",
       "      <td>NaN</td>\n",
       "      <td>1.75</td>\n",
       "      <td>-34.98</td>\n",
       "      <td>4.12</td>\n",
       "      <td>0.0</td>\n",
       "      <td>0.0</td>\n",
       "      <td>NaN</td>\n",
       "      <td>NaN</td>\n",
       "    </tr>\n",
       "  </tbody>\n",
       "</table>\n",
       "</div>"
      ],
      "text/plain": [
       "   2014_category_return  ...  2013_category_return\n",
       "0                   NaN  ...                   NaN\n",
       "\n",
       "[1 rows x 43 columns]"
      ]
     },
     "execution_count": 17,
     "metadata": {
      "tags": []
     },
     "output_type": "execute_result"
    }
   ],
   "source": [
    "other_specs.head(1)"
   ]
  },
  {
   "cell_type": "code",
   "execution_count": 18,
   "metadata": {
    "colab": {
     "base_uri": "https://localhost:8080/",
     "height": 756
    },
    "colab_type": "code",
    "id": "k-aAprx0QPWV",
    "outputId": "cb74f5cf-deac-48ee-ba86-ffdea02f5296",
    "scrolled": true
   },
   "outputs": [
    {
     "data": {
      "text/plain": [
       "2014_category_return                  6183\n",
       "2012_return_category                  9124\n",
       "years_up                              1812\n",
       "2018_return_category                   809\n",
       "tag                                      0\n",
       "category_return_1year                  115\n",
       "cash_percent_of_portfolio              114\n",
       "pc_ratio                               114\n",
       "2011_return_category                 10533\n",
       "ytd_return_fund                        115\n",
       "years_down                            1641\n",
       "2014_return_fund                      7206\n",
       "category_return_1month                 115\n",
       "2013_return_fund                      8538\n",
       "fund_return_3months                    115\n",
       "ytd_return_category                    115\n",
       "pb_ratio                               114\n",
       "2017_category_return                  1428\n",
       "1_year_return_fund                     115\n",
       "pe_ratio                               114\n",
       "2015_return_fund                      5688\n",
       "portfolio_convertable                  114\n",
       "3_months_return_category               115\n",
       "portfolio_others                       114\n",
       "2016_return_fund                      3931\n",
       "mmc                                    114\n",
       "stock_percent_of_portfolio             114\n",
       "2016_return_category                  3097\n",
       "ps_ratio                               114\n",
       "2011_return_fund                     11163\n",
       "2010_return_fund                     12262\n",
       "fund_return_3years                     115\n",
       "2012_fund_return                      9985\n",
       "2018_return_fund                       940\n",
       "2017_return_fund                      2551\n",
       "greatstone_rating                     5000\n",
       "category_ratio_net_annual_expense        0\n",
       "category_return_2015                  4601\n",
       "1_month_fund_return                    115\n",
       "bond_percentage_of_porfolio            114\n",
       "portfolio_preferred                    114\n",
       "2010_return_category                 11538\n",
       "2013_category_return                  7637\n",
       "dtype: int64"
      ]
     },
     "execution_count": 18,
     "metadata": {
      "tags": []
     },
     "output_type": "execute_result"
    }
   ],
   "source": [
    "other_specs.isnull().sum()"
   ]
  },
  {
   "cell_type": "code",
   "execution_count": 0,
   "metadata": {
    "colab": {},
    "colab_type": "code",
    "id": "GfDoqnVeQPWY"
   },
   "outputs": [],
   "source": [
    "other_specs['positive_year']=other_specs['years_up']-other_specs['years_down']"
   ]
  },
  {
   "cell_type": "code",
   "execution_count": 0,
   "metadata": {
    "colab": {},
    "colab_type": "code",
    "id": "xqNx2aWSQPWc"
   },
   "outputs": [],
   "source": [
    "other_specs1=other_specs[['tag','positive_year','ytd_return_fund','stock_percent_of_portfolio','cash_percent_of_portfolio','category_ratio_net_annual_expense','1_year_return_fund','1_month_fund_return','2018_return_fund','greatstone_rating']]"
   ]
  },
  {
   "cell_type": "code",
   "execution_count": 124,
   "metadata": {
    "colab": {
     "base_uri": "https://localhost:8080/",
     "height": 363
    },
    "colab_type": "code",
    "id": "4yZY5ibzQPWg",
    "outputId": "67b60db5-7283-4441-85e5-4cde707e0622"
   },
   "outputs": [
    {
     "data": {
      "text/html": [
       "<div>\n",
       "<style scoped>\n",
       "    .dataframe tbody tr th:only-of-type {\n",
       "        vertical-align: middle;\n",
       "    }\n",
       "\n",
       "    .dataframe tbody tr th {\n",
       "        vertical-align: top;\n",
       "    }\n",
       "\n",
       "    .dataframe thead th {\n",
       "        text-align: right;\n",
       "    }\n",
       "</style>\n",
       "<table border=\"1\" class=\"dataframe\">\n",
       "  <thead>\n",
       "    <tr style=\"text-align: right;\">\n",
       "      <th></th>\n",
       "      <th>tag</th>\n",
       "      <th>positive_year</th>\n",
       "      <th>ytd_return_fund</th>\n",
       "      <th>stock_percent_of_portfolio</th>\n",
       "      <th>cash_percent_of_portfolio</th>\n",
       "      <th>category_ratio_net_annual_expense</th>\n",
       "      <th>1_year_return_fund</th>\n",
       "      <th>1_month_fund_return</th>\n",
       "      <th>2018_return_fund</th>\n",
       "      <th>greatstone_rating</th>\n",
       "    </tr>\n",
       "  </thead>\n",
       "  <tbody>\n",
       "    <tr>\n",
       "      <th>tag</th>\n",
       "      <td>1.000000</td>\n",
       "      <td>0.020730</td>\n",
       "      <td>0.012214</td>\n",
       "      <td>0.002400</td>\n",
       "      <td>0.011304</td>\n",
       "      <td>-0.069322</td>\n",
       "      <td>0.014168</td>\n",
       "      <td>0.003320</td>\n",
       "      <td>0.005405</td>\n",
       "      <td>0.001028</td>\n",
       "    </tr>\n",
       "    <tr>\n",
       "      <th>positive_year</th>\n",
       "      <td>0.020730</td>\n",
       "      <td>1.000000</td>\n",
       "      <td>-0.057085</td>\n",
       "      <td>-0.164549</td>\n",
       "      <td>-0.180811</td>\n",
       "      <td>-0.174425</td>\n",
       "      <td>0.276561</td>\n",
       "      <td>0.077997</td>\n",
       "      <td>0.313010</td>\n",
       "      <td>0.181579</td>\n",
       "    </tr>\n",
       "    <tr>\n",
       "      <th>ytd_return_fund</th>\n",
       "      <td>0.012214</td>\n",
       "      <td>-0.057085</td>\n",
       "      <td>1.000000</td>\n",
       "      <td>0.757472</td>\n",
       "      <td>-0.348886</td>\n",
       "      <td>0.124828</td>\n",
       "      <td>0.284721</td>\n",
       "      <td>0.122493</td>\n",
       "      <td>-0.432633</td>\n",
       "      <td>0.111862</td>\n",
       "    </tr>\n",
       "    <tr>\n",
       "      <th>stock_percent_of_portfolio</th>\n",
       "      <td>0.002400</td>\n",
       "      <td>-0.164549</td>\n",
       "      <td>0.757472</td>\n",
       "      <td>1.000000</td>\n",
       "      <td>-0.335317</td>\n",
       "      <td>0.228938</td>\n",
       "      <td>0.000681</td>\n",
       "      <td>-0.082821</td>\n",
       "      <td>-0.573849</td>\n",
       "      <td>0.007762</td>\n",
       "    </tr>\n",
       "    <tr>\n",
       "      <th>cash_percent_of_portfolio</th>\n",
       "      <td>0.011304</td>\n",
       "      <td>-0.180811</td>\n",
       "      <td>-0.348886</td>\n",
       "      <td>-0.335317</td>\n",
       "      <td>1.000000</td>\n",
       "      <td>0.266537</td>\n",
       "      <td>-0.147369</td>\n",
       "      <td>-0.052516</td>\n",
       "      <td>0.135825</td>\n",
       "      <td>-0.136719</td>\n",
       "    </tr>\n",
       "    <tr>\n",
       "      <th>category_ratio_net_annual_expense</th>\n",
       "      <td>-0.069322</td>\n",
       "      <td>-0.174425</td>\n",
       "      <td>0.124828</td>\n",
       "      <td>0.228938</td>\n",
       "      <td>0.266537</td>\n",
       "      <td>1.000000</td>\n",
       "      <td>-0.172990</td>\n",
       "      <td>-0.106408</td>\n",
       "      <td>-0.246641</td>\n",
       "      <td>-0.055144</td>\n",
       "    </tr>\n",
       "    <tr>\n",
       "      <th>1_year_return_fund</th>\n",
       "      <td>0.014168</td>\n",
       "      <td>0.276561</td>\n",
       "      <td>0.284721</td>\n",
       "      <td>0.000681</td>\n",
       "      <td>-0.147369</td>\n",
       "      <td>-0.172990</td>\n",
       "      <td>1.000000</td>\n",
       "      <td>0.336056</td>\n",
       "      <td>0.669259</td>\n",
       "      <td>0.220991</td>\n",
       "    </tr>\n",
       "    <tr>\n",
       "      <th>1_month_fund_return</th>\n",
       "      <td>0.003320</td>\n",
       "      <td>0.077997</td>\n",
       "      <td>0.122493</td>\n",
       "      <td>-0.082821</td>\n",
       "      <td>-0.052516</td>\n",
       "      <td>-0.106408</td>\n",
       "      <td>0.336056</td>\n",
       "      <td>1.000000</td>\n",
       "      <td>0.228584</td>\n",
       "      <td>0.123632</td>\n",
       "    </tr>\n",
       "    <tr>\n",
       "      <th>2018_return_fund</th>\n",
       "      <td>0.005405</td>\n",
       "      <td>0.313010</td>\n",
       "      <td>-0.432633</td>\n",
       "      <td>-0.573849</td>\n",
       "      <td>0.135825</td>\n",
       "      <td>-0.246641</td>\n",
       "      <td>0.669259</td>\n",
       "      <td>0.228584</td>\n",
       "      <td>1.000000</td>\n",
       "      <td>0.182740</td>\n",
       "    </tr>\n",
       "    <tr>\n",
       "      <th>greatstone_rating</th>\n",
       "      <td>0.001028</td>\n",
       "      <td>0.181579</td>\n",
       "      <td>0.111862</td>\n",
       "      <td>0.007762</td>\n",
       "      <td>-0.136719</td>\n",
       "      <td>-0.055144</td>\n",
       "      <td>0.220991</td>\n",
       "      <td>0.123632</td>\n",
       "      <td>0.182740</td>\n",
       "      <td>1.000000</td>\n",
       "    </tr>\n",
       "  </tbody>\n",
       "</table>\n",
       "</div>"
      ],
      "text/plain": [
       "                                        tag  ...  greatstone_rating\n",
       "tag                                1.000000  ...           0.001028\n",
       "positive_year                      0.020730  ...           0.181579\n",
       "ytd_return_fund                    0.012214  ...           0.111862\n",
       "stock_percent_of_portfolio         0.002400  ...           0.007762\n",
       "cash_percent_of_portfolio          0.011304  ...          -0.136719\n",
       "category_ratio_net_annual_expense -0.069322  ...          -0.055144\n",
       "1_year_return_fund                 0.014168  ...           0.220991\n",
       "1_month_fund_return                0.003320  ...           0.123632\n",
       "2018_return_fund                   0.005405  ...           0.182740\n",
       "greatstone_rating                  0.001028  ...           1.000000\n",
       "\n",
       "[10 rows x 10 columns]"
      ]
     },
     "execution_count": 124,
     "metadata": {
      "tags": []
     },
     "output_type": "execute_result"
    }
   ],
   "source": [
    "other_specs1.corr()"
   ]
  },
  {
   "cell_type": "code",
   "execution_count": 0,
   "metadata": {
    "colab": {},
    "colab_type": "code",
    "id": "2S_hxvV2QPWm"
   },
   "outputs": [],
   "source": [
    "other_specs1=other_specs1.drop(['greatstone_rating'],axis=1)"
   ]
  },
  {
   "cell_type": "code",
   "execution_count": 0,
   "metadata": {
    "colab": {},
    "colab_type": "code",
    "id": "1h7PjLREQPWq"
   },
   "outputs": [],
   "source": [
    "other_specs1.replace(',', '', regex=True,inplace=True)"
   ]
  },
  {
   "cell_type": "code",
   "execution_count": 0,
   "metadata": {
    "colab": {},
    "colab_type": "code",
    "id": "zNlUKBUvQPWt",
    "scrolled": true
   },
   "outputs": [],
   "source": [
    "other_specs1=other_specs1.apply(pd.to_numeric)"
   ]
  },
  {
   "cell_type": "code",
   "execution_count": 128,
   "metadata": {
    "colab": {
     "base_uri": "https://localhost:8080/",
     "height": 34
    },
    "colab_type": "code",
    "id": "ptrL5lvMQPWy",
    "outputId": "ccfeb74d-006d-4655-b7b3-fe526aca22a3"
   },
   "outputs": [
    {
     "data": {
      "text/plain": [
       "(25000, 18)"
      ]
     },
     "execution_count": 128,
     "metadata": {
      "tags": []
     },
     "output_type": "execute_result"
    }
   ],
   "source": [
    "All_specs = pd.merge(fund_specs, other_specs1, on = 'tag', how = 'inner')\n",
    "All_specs.shape"
   ]
  },
  {
   "cell_type": "code",
   "execution_count": 129,
   "metadata": {
    "colab": {
     "base_uri": "https://localhost:8080/",
     "height": 34
    },
    "colab_type": "code",
    "id": "-sXGTZzSQPW2",
    "outputId": "6225a40d-8a6d-44e2-fe8c-d63eeb75d26d"
   },
   "outputs": [
    {
     "data": {
      "text/plain": [
       "(25000, 28)"
      ]
     },
     "execution_count": 129,
     "metadata": {
      "tags": []
     },
     "output_type": "execute_result"
    }
   ],
   "source": [
    "fund_conf_ratio_spec = pd.merge(fund_conf_ratio, All_specs, on = 'tag', how = 'inner')\n",
    "fund_conf_ratio_spec.shape"
   ]
  },
  {
   "cell_type": "code",
   "execution_count": 130,
   "metadata": {
    "colab": {
     "base_uri": "https://localhost:8080/",
     "height": 34
    },
    "colab_type": "code",
    "id": "PrTQWGl4QPW5",
    "outputId": "6e7e32ef-46b5-427f-b3b8-21b7dcc56b6f"
   },
   "outputs": [
    {
     "data": {
      "text/plain": [
       "(25000, 40)"
      ]
     },
     "execution_count": 130,
     "metadata": {
      "tags": []
     },
     "output_type": "execute_result"
    }
   ],
   "source": [
    "fund_merge_file = pd.merge(fund_conf_ratio_spec, fund_allocations, left_on = 'tag',right_on='id', how = 'inner')\n",
    "fund_merge_file.shape"
   ]
  },
  {
   "cell_type": "code",
   "execution_count": 0,
   "metadata": {
    "colab": {},
    "colab_type": "code",
    "id": "vTkAWB_hQPW9"
   },
   "outputs": [],
   "source": [
    "return_3year = return_3year.replace(',', '',regex=True)\n",
    "return_5year = return_5year.replace(',', '',regex=True)\n",
    "return_10year = return_10year.replace(',', '',regex=True)"
   ]
  },
  {
   "cell_type": "code",
   "execution_count": 132,
   "metadata": {
    "colab": {
     "base_uri": "https://localhost:8080/",
     "height": 168
    },
    "colab_type": "code",
    "id": "X0Io_0UNQPXB",
    "outputId": "1456096d-e426-4ddc-c618-24edbea48cf7"
   },
   "outputs": [
    {
     "data": {
      "text/plain": [
       "Index(['10years_category_r_squared', '10yrs_sharpe_ratio_fund',\n",
       "       '10_years_alpha_fund', '10years_fund_r_squared', '10years_fund_std',\n",
       "       '10yrs_sharpe_ratio_category', '10_years_beta_fund',\n",
       "       '10yrs_treynor_ratio_fund', 'fund_id',\n",
       "       '10_years_return_mean_annual_category', '10yrs_treynor_ratio_category',\n",
       "       '10_years_return_fund', '10_years_alpha_category',\n",
       "       '10_years_beta_category', '10years_category_std',\n",
       "       '10_years_return_mean_annual_fund', '10_years_return_category'],\n",
       "      dtype='object')"
      ]
     },
     "execution_count": 132,
     "metadata": {
      "tags": []
     },
     "output_type": "execute_result"
    }
   ],
   "source": [
    "return_10year.columns"
   ]
  },
  {
   "cell_type": "code",
   "execution_count": 0,
   "metadata": {
    "colab": {},
    "colab_type": "code",
    "id": "1FuUnh-DQPXG"
   },
   "outputs": [],
   "source": [
    "num_cols=return_10year._get_numeric_data().columns"
   ]
  },
  {
   "cell_type": "code",
   "execution_count": 0,
   "metadata": {
    "colab": {},
    "colab_type": "code",
    "id": "pMw0ctmYQPXK"
   },
   "outputs": [],
   "source": [
    "return_3year=return_3year.apply(pd.to_numeric,errors='coerce')\n",
    "\n",
    "return_5year=return_5year.apply(pd.to_numeric,errors='coerce')\n",
    "\n",
    "return_10year[num_cols]=return_10year[num_cols].apply(pd.to_numeric,errors='coerce')\n",
    "return_10year['10yrs_treynor_ratio_fund']=return_10year['10yrs_treynor_ratio_fund'].apply(pd.to_numeric,errors='coerce')"
   ]
  },
  {
   "cell_type": "code",
   "execution_count": 0,
   "metadata": {
    "colab": {},
    "colab_type": "code",
    "id": "w6cPdOi8QPXN"
   },
   "outputs": [],
   "source": [
    "return_10year['10_years_return_fund'] = return_10year['10_years_return_fund'].replace('0', 'np.nan',regex=True)"
   ]
  },
  {
   "cell_type": "code",
   "execution_count": 0,
   "metadata": {
    "colab": {},
    "colab_type": "code",
    "id": "usW36iA6QPXP"
   },
   "outputs": [],
   "source": [
    "return_3_5year=pd.merge(return_3year, return_5year, on = 'tag', how = 'inner')"
   ]
  },
  {
   "cell_type": "code",
   "execution_count": 0,
   "metadata": {
    "colab": {},
    "colab_type": "code",
    "id": "m4SeJdxjQPXU"
   },
   "outputs": [],
   "source": [
    "fund_merge_filereturns_3_5yrs=pd.merge(fund_merge_file, return_3_5year, on = 'tag', how = 'inner')"
   ]
  },
  {
   "cell_type": "code",
   "execution_count": 0,
   "metadata": {
    "colab": {},
    "colab_type": "code",
    "id": "TwxwqKh4QPXY"
   },
   "outputs": [],
   "source": [
    "fund_merge_filereturns_3_5_10yrs=pd.merge(fund_merge_filereturns_3_5yrs, return_10year, on = 'fund_id', how = 'inner')"
   ]
  },
  {
   "cell_type": "markdown",
   "metadata": {
    "colab_type": "text",
    "id": "NfOK8GzO9hLe"
   },
   "source": []
  },
  {
   "cell_type": "code",
   "execution_count": 0,
   "metadata": {
    "colab": {},
    "colab_type": "code",
    "id": "dO5VwObXQPXd"
   },
   "outputs": [],
   "source": [
    "#df=fund_merge_file[fund_merge_file['greatstone_rating'].notnull()]\n",
    "df=fund_merge_filereturns_3_5_10yrs.copy()"
   ]
  },
  {
   "cell_type": "code",
   "execution_count": 140,
   "metadata": {
    "colab": {
     "base_uri": "https://localhost:8080/",
     "height": 655
    },
    "colab_type": "code",
    "id": "ABnHvkpQQPXh",
    "outputId": "f0fa15cb-590c-451e-9f51-6368df4386ee",
    "scrolled": true
   },
   "outputs": [
    {
     "data": {
      "text/plain": [
       "Index(['category', 'parent_company', 'fund_id', 'fund_name', 'tag',\n",
       "       'fund_ratio_net_annual_expense', 'pb_ratio', 'ps_ratio', 'mmc',\n",
       "       'pc_ratio', 'pe_ratio', 'investment_class', 'currency', 'total_assets',\n",
       "       'yield', 'greatstone_rating', 'inception_date', 'fund_size',\n",
       "       'return_ytd', 'inception_date_delta', 'positive_year',\n",
       "       'ytd_return_fund', 'stock_percent_of_portfolio',\n",
       "       'cash_percent_of_portfolio', 'category_ratio_net_annual_expense',\n",
       "       '1_year_return_fund', '1_month_fund_return', '2018_return_fund',\n",
       "       'portfolio_communication_allocation', 'portfolio_financial_services',\n",
       "       'portfolio_industrials_allocation', 'portfolio_tech_allocation',\n",
       "       'portfolio_materials_basic_allocation', 'portfolio_energy_allocation',\n",
       "       'portfolio_consumer_defence_allocation',\n",
       "       'portfolio_healthcare_allocation', 'portfolio_property_allocation',\n",
       "       'id', 'portfolio_utils_allocation',\n",
       "       'portfolio_cyclical_consumer_allocation', '3yrs_treynor_ratio_fund',\n",
       "       '3_years_alpha_fund', '3years_category_std', '3yrs_sharpe_ratio_fund',\n",
       "       '3yrs_treynor_ratio_category', '3_years_return_mean_annual_fund',\n",
       "       'fund_beta_3years', '3years_fund_r_squared', '3years_fund_std',\n",
       "       'category_beta_3years', 'fund_return_3years', '3_years_alpha_category',\n",
       "       '3_years_return_mean_annual_category', '3yrs_sharpe_ratio_category',\n",
       "       '3years_category_r_squared', '3_years_return_category',\n",
       "       'category_r_squared_5years', '5yrs_sharpe_ratio_fund',\n",
       "       '5_years_alpha_fund', '5years_fund_r_squared', '5years_fund_std',\n",
       "       '5yrs_sharpe_ratio_category', '5_years_beta_fund',\n",
       "       '5yrs_treynor_ratio_fund', '5_years_return_mean_annual_fund',\n",
       "       '5_years_return_mean_annual_category', '5yrs_treynor_ratio_category',\n",
       "       '5_years_return_fund', '5_years_alpha_category',\n",
       "       '5_years_beta_category', '5years_category_std',\n",
       "       '5_years_return_category', '10years_category_r_squared',\n",
       "       '10yrs_sharpe_ratio_fund', '10_years_alpha_fund',\n",
       "       '10years_fund_r_squared', '10years_fund_std',\n",
       "       '10yrs_sharpe_ratio_category', '10_years_beta_fund',\n",
       "       '10yrs_treynor_ratio_fund', '10_years_return_mean_annual_category',\n",
       "       '10yrs_treynor_ratio_category', '10_years_return_fund',\n",
       "       '10_years_alpha_category', '10_years_beta_category',\n",
       "       '10years_category_std', '10_years_return_mean_annual_fund',\n",
       "       '10_years_return_category'],\n",
       "      dtype='object')"
      ]
     },
     "execution_count": 140,
     "metadata": {
      "tags": []
     },
     "output_type": "execute_result"
    }
   ],
   "source": [
    "df.columns"
   ]
  },
  {
   "cell_type": "code",
   "execution_count": 0,
   "metadata": {
    "colab": {},
    "colab_type": "code",
    "id": "o0KGSszuHqga"
   },
   "outputs": [],
   "source": [
    "df1=df.corr()"
   ]
  },
  {
   "cell_type": "code",
   "execution_count": 142,
   "metadata": {
    "colab": {
     "base_uri": "https://localhost:8080/",
     "height": 370
    },
    "colab_type": "code",
    "id": "ytGA3gopHrgk",
    "outputId": "09cd2fed-64a6-4284-de8e-65a70ae2ff87"
   },
   "outputs": [
    {
     "data": {
      "text/plain": [
       "greatstone_rating                   1.000000\n",
       "5yrs_sharpe_ratio_fund              0.499828\n",
       "10yrs_sharpe_ratio_fund             0.456945\n",
       "3yrs_sharpe_ratio_fund              0.448965\n",
       "fund_return_3years                  0.433455\n",
       "3_years_alpha_fund                  0.422781\n",
       "5_years_return_fund                 0.410994\n",
       "5_years_alpha_fund                  0.402320\n",
       "5_years_return_mean_annual_fund     0.351916\n",
       "10_years_alpha_fund                 0.341150\n",
       "3_years_return_mean_annual_fund     0.297223\n",
       "10_years_return_fund                0.294849\n",
       "10_years_return_mean_annual_fund    0.262206\n",
       "1_year_return_fund                  0.220991\n",
       "2018_return_fund                    0.182740\n",
       "positive_year                       0.181579\n",
       "10yrs_sharpe_ratio_category         0.124333\n",
       "1_month_fund_return                 0.123632\n",
       "return_ytd                          0.112224\n",
       "ytd_return_fund                     0.111862\n",
       "Name: greatstone_rating, dtype: float64"
      ]
     },
     "execution_count": 142,
     "metadata": {
      "tags": []
     },
     "output_type": "execute_result"
    }
   ],
   "source": [
    "df1['greatstone_rating'].sort_values(ascending=False).head(20)"
   ]
  },
  {
   "cell_type": "code",
   "execution_count": 0,
   "metadata": {
    "colab": {},
    "colab_type": "code",
    "id": "l0uYApETQPXk"
   },
   "outputs": [],
   "source": [
    "cols = df.columns\n",
    "\n",
    "NUM = (df._get_numeric_data().columns).to_list()\n",
    "CAT= cols.difference(NUM).to_list()\n",
    "NUM.remove('greatstone_rating')"
   ]
  },
  {
   "cell_type": "code",
   "execution_count": 144,
   "metadata": {
    "colab": {
     "base_uri": "https://localhost:8080/",
     "height": 34
    },
    "colab_type": "code",
    "id": "_qaDt2sQQPXo",
    "outputId": "9c3fada1-9f20-4b7b-f82f-c0f99c6a7b0a"
   },
   "outputs": [
    {
     "name": "stdout",
     "output_type": "stream",
     "text": [
      "['category', 'currency', 'fund_id', 'fund_name', 'fund_size', 'inception_date', 'investment_class', 'parent_company']\n"
     ]
    }
   ],
   "source": [
    "print(CAT)"
   ]
  },
  {
   "cell_type": "code",
   "execution_count": 0,
   "metadata": {
    "colab": {},
    "colab_type": "code",
    "id": "yPXnztb1QPXz"
   },
   "outputs": [],
   "source": [
    "missing_df =df.isnull().sum(axis=0).reset_index()\n",
    "missing_df.columns = ['Column Name', 'Missing Values Count']\n",
    "missing_df['Filling Factor (%)']=(df.shape[0]-missing_df['Missing Values Count'])/df.shape[0]*100\n",
    "missing_df.sort_values('Filling Factor (%)').reset_index(drop = True)\n",
    "missing_df.to_csv(\"missing_df\")"
   ]
  },
  {
   "cell_type": "markdown",
   "metadata": {
    "colab_type": "text",
    "id": "-djtFmg4M4p_"
   },
   "source": []
  },
  {
   "cell_type": "code",
   "execution_count": 146,
   "metadata": {
    "colab": {
     "base_uri": "https://localhost:8080/",
     "height": 817
    },
    "colab_type": "code",
    "id": "kU9x7ut1QPX3",
    "outputId": "561e8bef-0f30-4f6a-8fc9-90b4d912a161",
    "scrolled": false
   },
   "outputs": [
    {
     "data": {
      "text/html": [
       "<div>\n",
       "<style scoped>\n",
       "    .dataframe tbody tr th:only-of-type {\n",
       "        vertical-align: middle;\n",
       "    }\n",
       "\n",
       "    .dataframe tbody tr th {\n",
       "        vertical-align: top;\n",
       "    }\n",
       "\n",
       "    .dataframe thead th {\n",
       "        text-align: right;\n",
       "    }\n",
       "</style>\n",
       "<table border=\"1\" class=\"dataframe\">\n",
       "  <thead>\n",
       "    <tr style=\"text-align: right;\">\n",
       "      <th></th>\n",
       "      <th>Column Name</th>\n",
       "      <th>Missing Values Count</th>\n",
       "      <th>Filling Factor (%)</th>\n",
       "    </tr>\n",
       "  </thead>\n",
       "  <tbody>\n",
       "    <tr>\n",
       "      <th>11</th>\n",
       "      <td>investment_class</td>\n",
       "      <td>1480</td>\n",
       "      <td>94.080</td>\n",
       "    </tr>\n",
       "    <tr>\n",
       "      <th>15</th>\n",
       "      <td>greatstone_rating</td>\n",
       "      <td>5000</td>\n",
       "      <td>80.000</td>\n",
       "    </tr>\n",
       "    <tr>\n",
       "      <th>17</th>\n",
       "      <td>fund_size</td>\n",
       "      <td>1480</td>\n",
       "      <td>94.080</td>\n",
       "    </tr>\n",
       "    <tr>\n",
       "      <th>20</th>\n",
       "      <td>positive_year</td>\n",
       "      <td>3075</td>\n",
       "      <td>87.700</td>\n",
       "    </tr>\n",
       "    <tr>\n",
       "      <th>27</th>\n",
       "      <td>2018_return_fund</td>\n",
       "      <td>940</td>\n",
       "      <td>96.240</td>\n",
       "    </tr>\n",
       "    <tr>\n",
       "      <th>40</th>\n",
       "      <td>3yrs_treynor_ratio_fund</td>\n",
       "      <td>1648</td>\n",
       "      <td>93.408</td>\n",
       "    </tr>\n",
       "    <tr>\n",
       "      <th>41</th>\n",
       "      <td>3_years_alpha_fund</td>\n",
       "      <td>1648</td>\n",
       "      <td>93.408</td>\n",
       "    </tr>\n",
       "    <tr>\n",
       "      <th>43</th>\n",
       "      <td>3yrs_sharpe_ratio_fund</td>\n",
       "      <td>1648</td>\n",
       "      <td>93.408</td>\n",
       "    </tr>\n",
       "    <tr>\n",
       "      <th>45</th>\n",
       "      <td>3_years_return_mean_annual_fund</td>\n",
       "      <td>1648</td>\n",
       "      <td>93.408</td>\n",
       "    </tr>\n",
       "    <tr>\n",
       "      <th>46</th>\n",
       "      <td>fund_beta_3years</td>\n",
       "      <td>1648</td>\n",
       "      <td>93.408</td>\n",
       "    </tr>\n",
       "    <tr>\n",
       "      <th>47</th>\n",
       "      <td>3years_fund_r_squared</td>\n",
       "      <td>1648</td>\n",
       "      <td>93.408</td>\n",
       "    </tr>\n",
       "    <tr>\n",
       "      <th>48</th>\n",
       "      <td>3years_fund_std</td>\n",
       "      <td>1648</td>\n",
       "      <td>93.408</td>\n",
       "    </tr>\n",
       "    <tr>\n",
       "      <th>57</th>\n",
       "      <td>5yrs_sharpe_ratio_fund</td>\n",
       "      <td>3843</td>\n",
       "      <td>84.628</td>\n",
       "    </tr>\n",
       "    <tr>\n",
       "      <th>58</th>\n",
       "      <td>5_years_alpha_fund</td>\n",
       "      <td>3843</td>\n",
       "      <td>84.628</td>\n",
       "    </tr>\n",
       "    <tr>\n",
       "      <th>59</th>\n",
       "      <td>5years_fund_r_squared</td>\n",
       "      <td>3843</td>\n",
       "      <td>84.628</td>\n",
       "    </tr>\n",
       "    <tr>\n",
       "      <th>60</th>\n",
       "      <td>5years_fund_std</td>\n",
       "      <td>3843</td>\n",
       "      <td>84.628</td>\n",
       "    </tr>\n",
       "    <tr>\n",
       "      <th>62</th>\n",
       "      <td>5_years_beta_fund</td>\n",
       "      <td>3843</td>\n",
       "      <td>84.628</td>\n",
       "    </tr>\n",
       "    <tr>\n",
       "      <th>63</th>\n",
       "      <td>5yrs_treynor_ratio_fund</td>\n",
       "      <td>3843</td>\n",
       "      <td>84.628</td>\n",
       "    </tr>\n",
       "    <tr>\n",
       "      <th>64</th>\n",
       "      <td>5_years_return_mean_annual_fund</td>\n",
       "      <td>3843</td>\n",
       "      <td>84.628</td>\n",
       "    </tr>\n",
       "    <tr>\n",
       "      <th>73</th>\n",
       "      <td>10yrs_sharpe_ratio_fund</td>\n",
       "      <td>8584</td>\n",
       "      <td>65.664</td>\n",
       "    </tr>\n",
       "    <tr>\n",
       "      <th>74</th>\n",
       "      <td>10_years_alpha_fund</td>\n",
       "      <td>8584</td>\n",
       "      <td>65.664</td>\n",
       "    </tr>\n",
       "    <tr>\n",
       "      <th>75</th>\n",
       "      <td>10years_fund_r_squared</td>\n",
       "      <td>8584</td>\n",
       "      <td>65.664</td>\n",
       "    </tr>\n",
       "    <tr>\n",
       "      <th>76</th>\n",
       "      <td>10years_fund_std</td>\n",
       "      <td>8584</td>\n",
       "      <td>65.664</td>\n",
       "    </tr>\n",
       "    <tr>\n",
       "      <th>78</th>\n",
       "      <td>10_years_beta_fund</td>\n",
       "      <td>8584</td>\n",
       "      <td>65.664</td>\n",
       "    </tr>\n",
       "    <tr>\n",
       "      <th>79</th>\n",
       "      <td>10yrs_treynor_ratio_fund</td>\n",
       "      <td>8584</td>\n",
       "      <td>65.664</td>\n",
       "    </tr>\n",
       "    <tr>\n",
       "      <th>86</th>\n",
       "      <td>10_years_return_mean_annual_fund</td>\n",
       "      <td>8584</td>\n",
       "      <td>65.664</td>\n",
       "    </tr>\n",
       "  </tbody>\n",
       "</table>\n",
       "</div>"
      ],
      "text/plain": [
       "                         Column Name  Missing Values Count  Filling Factor (%)\n",
       "11                  investment_class                  1480              94.080\n",
       "15                 greatstone_rating                  5000              80.000\n",
       "17                         fund_size                  1480              94.080\n",
       "20                     positive_year                  3075              87.700\n",
       "27                  2018_return_fund                   940              96.240\n",
       "40           3yrs_treynor_ratio_fund                  1648              93.408\n",
       "41                3_years_alpha_fund                  1648              93.408\n",
       "43            3yrs_sharpe_ratio_fund                  1648              93.408\n",
       "45   3_years_return_mean_annual_fund                  1648              93.408\n",
       "46                  fund_beta_3years                  1648              93.408\n",
       "47             3years_fund_r_squared                  1648              93.408\n",
       "48                   3years_fund_std                  1648              93.408\n",
       "57            5yrs_sharpe_ratio_fund                  3843              84.628\n",
       "58                5_years_alpha_fund                  3843              84.628\n",
       "59             5years_fund_r_squared                  3843              84.628\n",
       "60                   5years_fund_std                  3843              84.628\n",
       "62                 5_years_beta_fund                  3843              84.628\n",
       "63           5yrs_treynor_ratio_fund                  3843              84.628\n",
       "64   5_years_return_mean_annual_fund                  3843              84.628\n",
       "73           10yrs_sharpe_ratio_fund                  8584              65.664\n",
       "74               10_years_alpha_fund                  8584              65.664\n",
       "75            10years_fund_r_squared                  8584              65.664\n",
       "76                  10years_fund_std                  8584              65.664\n",
       "78                10_years_beta_fund                  8584              65.664\n",
       "79          10yrs_treynor_ratio_fund                  8584              65.664\n",
       "86  10_years_return_mean_annual_fund                  8584              65.664"
      ]
     },
     "execution_count": 146,
     "metadata": {
      "tags": []
     },
     "output_type": "execute_result"
    }
   ],
   "source": [
    "missing_df[missing_df['Filling Factor (%)'] < 99].sort_index()"
   ]
  },
  {
   "cell_type": "code",
   "execution_count": 0,
   "metadata": {
    "colab": {},
    "colab_type": "code",
    "id": "VKfGmn5jQPYD"
   },
   "outputs": [],
   "source": [
    "df.to_csv('df.csv')"
   ]
  },
  {
   "cell_type": "code",
   "execution_count": 148,
   "metadata": {
    "colab": {
     "base_uri": "https://localhost:8080/",
     "height": 1000
    },
    "colab_type": "code",
    "id": "AeQ-s3tHEFIP",
    "outputId": "3faa43f7-6f1f-421c-ce75-23af108102bf"
   },
   "outputs": [
    {
     "data": {
      "text/plain": [
       "<matplotlib.axes._subplots.AxesSubplot at 0x7f4582bf2b38>"
      ]
     },
     "execution_count": 148,
     "metadata": {
      "tags": []
     },
     "output_type": "execute_result"
    },
    {
     "data": {
      "image/png": "[encoded data removed]",
      "text/plain": [
       "<Figure size 2160x2160 with 1 Axes>"
      ]
     },
     "metadata": {
      "needs_background": "light",
      "tags": []
     },
     "output_type": "display_data"
    }
   ],
   "source": [
    "plt.figure(figsize=(30,30))\n",
    "sns.boxplot(data=df[NUM],orient='h')"
   ]
  },
  {
   "cell_type": "code",
   "execution_count": 0,
   "metadata": {
    "colab": {},
    "colab_type": "code",
    "id": "--0rurTMEFN4"
   },
   "outputs": [],
   "source": [
    "#outliers replacing by whiskers\n",
    "def outliers_handling(cols):\n",
    "    cols = pd.DataFrame(cols)\n",
    "    Q1 = cols.quantile(0.25)\n",
    "    Q3 = cols.quantile(0.75)\n",
    "    IQR = Q3 - Q1\n",
    "    # print(IQR)\n",
    "\n",
    "    # Replace every outlier on the lower side by the lower whisker\n",
    "    for i, j in zip(np.where(cols < Q1 - 1.5 * IQR)[0], np.where(cols < Q1 - 1.5 * IQR)[1]): \n",
    "\n",
    "        whisker  = Q1 - 1.5 * IQR\n",
    "        cols.iloc[i,j] = whisker[j]\n",
    "\n",
    "\n",
    "    #Replace every outlier on the upper side by the upper whisker    \n",
    "    for i, j in zip(np.where(cols > Q3 + 1.5 * IQR)[0], np.where(cols > Q3 + 1.5 * IQR)[1]):\n",
    "\n",
    "        whisker  = Q3 + 1.5 * IQR\n",
    "        cols.iloc[i,j] = whisker[j]\n",
    "        \n",
    "    return cols"
   ]
  },
  {
   "cell_type": "code",
   "execution_count": null,
   "metadata": {},
   "outputs": [],
   "source": [
    "def outliers_handling(cols):\n",
    "    cols = pd.DataFrame(cols)\n",
    "    Q1 = cols.quantile(0.25)\n",
    "    Q3 = cols.quantile(0.75)\n",
    "    IQR = Q3 - Q1\n",
    "    # print(IQR)\n",
    "\n",
    "    # Replace every outlier on the lower side by the lower whisker\n",
    "    for i, j in zip(np.where(cols < Q1 - 1.5 * IQR)[0], np.where(cols < Q1 - 1.5 * IQR)[1]): \n",
    "        mean  = Q1 - 1.5 * IQR\n",
    "        cols.iloc[i,j] = mean[j]\n",
    "\n",
    "\n",
    "    #Replace every outlier on the upper side by the upper whisker    \n",
    "    for i, j in zip(np.where(cols > Q3 + 1.5 * IQR)[0], np.where(cols > Q3 + 1.5 * IQR)[1]):\n",
    "        mean  = Q3 + 1.5 * IQR\n",
    "        cols.iloc[i,j] = whisker[j]\n",
    "        \n",
    "    return cols"
   ]
  },
  {
   "cell_type": "code",
   "execution_count": 0,
   "metadata": {
    "colab": {},
    "colab_type": "code",
    "id": "3Hbi8-YNEOGx"
   },
   "outputs": [],
   "source": [
    "df.total_assets=outliers_handling(df.total_assets)"
   ]
  },
  {
   "cell_type": "code",
   "execution_count": 0,
   "metadata": {
    "colab": {},
    "colab_type": "code",
    "id": "-4rH6YmGDbg-"
   },
   "outputs": [],
   "source": [
    "df=df.drop(['3yrs_treynor_ratio_fund','5yrs_treynor_ratio_fund','5yrs_treynor_ratio_fund'],axis=1)"
   ]
  },
  {
   "cell_type": "code",
   "execution_count": 0,
   "metadata": {
    "colab": {},
    "colab_type": "code",
    "id": "_fCBEFU-QPYc"
   },
   "outputs": [],
   "source": [
    "df['investment_class'] = df['investment_class'].replace(np.nan, 'mode')\n",
    "df['fund_size'] = df['fund_size'].replace(np.nan, 'unknown')"
   ]
  },
  {
   "cell_type": "code",
   "execution_count": 0,
   "metadata": {
    "colab": {},
    "colab_type": "code",
    "id": "-9fhJOf3QPYi"
   },
   "outputs": [],
   "source": [
    "cols_to_transform = ['investment_class','fund_size']\n",
    "df = pd.get_dummies( data = df, columns = cols_to_transform ,drop_first=True)"
   ]
  },
  {
   "cell_type": "code",
   "execution_count": 0,
   "metadata": {
    "colab": {},
    "colab_type": "code",
    "id": "yN4u0m4nQPYn"
   },
   "outputs": [],
   "source": [
    "#first we make a dictionary that maps each label to the counts\n",
    "category_frequency_map = df.category.value_counts().to_dict()\n",
    "parent_company_frequency_map=df.parent_company.value_counts().to_dict()\n",
    "\n",
    "df.category = df.category.map(category_frequency_map)\n",
    "df.parent_company=df.parent_company.map(parent_company_frequency_map)\n",
    "\n",
    "\n"
   ]
  },
  {
   "cell_type": "code",
   "execution_count": 155,
   "metadata": {
    "colab": {
     "base_uri": "https://localhost:8080/",
     "height": 34
    },
    "colab_type": "code",
    "id": "Y4IWBoO4QPYq",
    "outputId": "b858bd75-0404-434f-e038-f8625d177718"
   },
   "outputs": [
    {
     "data": {
      "text/plain": [
       "((20000, 90), (5000, 90))"
      ]
     },
     "execution_count": 155,
     "metadata": {
      "tags": []
     },
     "output_type": "execute_result"
    }
   ],
   "source": [
    "train=df[df['greatstone_rating'].notnull()]\n",
    "test=df[df['greatstone_rating'].isnull()]\n",
    "\n",
    "train.shape,test.shape"
   ]
  },
  {
   "cell_type": "code",
   "execution_count": 156,
   "metadata": {
    "colab": {
     "base_uri": "https://localhost:8080/",
     "height": 218
    },
    "colab_type": "code",
    "id": "2A8T4PifUKzG",
    "outputId": "a7f068fb-59c0-4d14-ee6d-fa5522dfcf9b"
   },
   "outputs": [
    {
     "data": {
      "text/plain": [
       "1282    1044\n",
       "1335    1044\n",
       "1126     901\n",
       "960      763\n",
       "855      666\n",
       "        ... \n",
       "9          6\n",
       "7          6\n",
       "8          6\n",
       "4          4\n",
       "2          2\n",
       "Name: category, Length: 102, dtype: int64"
      ]
     },
     "execution_count": 156,
     "metadata": {
      "tags": []
     },
     "output_type": "execute_result"
    }
   ],
   "source": [
    "train['category'].value_counts()"
   ]
  },
  {
   "cell_type": "code",
   "execution_count": 0,
   "metadata": {
    "colab": {},
    "colab_type": "code",
    "id": "Ol8but-D1-Hn"
   },
   "outputs": [],
   "source": [
    "ordered_labels_for_pc = train.groupby(['parent_company'])['greatstone_rating'].mean().to_dict()\n",
    "\n",
    "ordered_labels_for_category=train.groupby(['category'])['greatstone_rating'].mean().to_dict()"
   ]
  },
  {
   "cell_type": "code",
   "execution_count": 158,
   "metadata": {
    "colab": {
     "base_uri": "https://localhost:8080/",
     "height": 50
    },
    "colab_type": "code",
    "id": "X2okeX6_Tvif",
    "outputId": "c5a0210a-f6ca-4182-b465-f035e7209b30"
   },
   "outputs": [
    {
     "data": {
      "text/plain": [
       "False    20000\n",
       "Name: category, dtype: int64"
      ]
     },
     "execution_count": 158,
     "metadata": {
      "tags": []
     },
     "output_type": "execute_result"
    }
   ],
   "source": [
    "train.category.isnull().value_counts()"
   ]
  },
  {
   "cell_type": "code",
   "execution_count": 0,
   "metadata": {
    "colab": {},
    "colab_type": "code",
    "id": "VAtbd0e2QPYs"
   },
   "outputs": [],
   "source": [
    "test=pd.merge(sample_submission,test,on='fund_id')"
   ]
  },
  {
   "cell_type": "code",
   "execution_count": 160,
   "metadata": {
    "colab": {
     "base_uri": "https://localhost:8080/",
     "height": 193
    },
    "colab_type": "code",
    "id": "_p6mwxeCQPYw",
    "outputId": "6b9292b2-0702-4ae8-8882-916458bf2945",
    "scrolled": true
   },
   "outputs": [
    {
     "data": {
      "text/html": [
       "<div>\n",
       "<style scoped>\n",
       "    .dataframe tbody tr th:only-of-type {\n",
       "        vertical-align: middle;\n",
       "    }\n",
       "\n",
       "    .dataframe tbody tr th {\n",
       "        vertical-align: top;\n",
       "    }\n",
       "\n",
       "    .dataframe thead th {\n",
       "        text-align: right;\n",
       "    }\n",
       "</style>\n",
       "<table border=\"1\" class=\"dataframe\">\n",
       "  <thead>\n",
       "    <tr style=\"text-align: right;\">\n",
       "      <th></th>\n",
       "      <th>fund_id</th>\n",
       "      <th>greatstone_rating_x</th>\n",
       "      <th>category</th>\n",
       "      <th>parent_company</th>\n",
       "      <th>fund_name</th>\n",
       "      <th>tag</th>\n",
       "      <th>fund_ratio_net_annual_expense</th>\n",
       "      <th>pb_ratio</th>\n",
       "      <th>ps_ratio</th>\n",
       "      <th>mmc</th>\n",
       "      <th>pc_ratio</th>\n",
       "      <th>pe_ratio</th>\n",
       "      <th>currency</th>\n",
       "      <th>total_assets</th>\n",
       "      <th>yield</th>\n",
       "      <th>greatstone_rating_y</th>\n",
       "      <th>inception_date</th>\n",
       "      <th>return_ytd</th>\n",
       "      <th>inception_date_delta</th>\n",
       "      <th>positive_year</th>\n",
       "      <th>ytd_return_fund</th>\n",
       "      <th>stock_percent_of_portfolio</th>\n",
       "      <th>cash_percent_of_portfolio</th>\n",
       "      <th>category_ratio_net_annual_expense</th>\n",
       "      <th>1_year_return_fund</th>\n",
       "      <th>1_month_fund_return</th>\n",
       "      <th>2018_return_fund</th>\n",
       "      <th>portfolio_communication_allocation</th>\n",
       "      <th>portfolio_financial_services</th>\n",
       "      <th>portfolio_industrials_allocation</th>\n",
       "      <th>portfolio_tech_allocation</th>\n",
       "      <th>portfolio_materials_basic_allocation</th>\n",
       "      <th>portfolio_energy_allocation</th>\n",
       "      <th>portfolio_consumer_defence_allocation</th>\n",
       "      <th>portfolio_healthcare_allocation</th>\n",
       "      <th>portfolio_property_allocation</th>\n",
       "      <th>id</th>\n",
       "      <th>portfolio_utils_allocation</th>\n",
       "      <th>portfolio_cyclical_consumer_allocation</th>\n",
       "      <th>3_years_alpha_fund</th>\n",
       "      <th>...</th>\n",
       "      <th>3yrs_sharpe_ratio_category</th>\n",
       "      <th>3years_category_r_squared</th>\n",
       "      <th>3_years_return_category</th>\n",
       "      <th>category_r_squared_5years</th>\n",
       "      <th>5yrs_sharpe_ratio_fund</th>\n",
       "      <th>5_years_alpha_fund</th>\n",
       "      <th>5years_fund_r_squared</th>\n",
       "      <th>5years_fund_std</th>\n",
       "      <th>5yrs_sharpe_ratio_category</th>\n",
       "      <th>5_years_beta_fund</th>\n",
       "      <th>5_years_return_mean_annual_fund</th>\n",
       "      <th>5_years_return_mean_annual_category</th>\n",
       "      <th>5yrs_treynor_ratio_category</th>\n",
       "      <th>5_years_return_fund</th>\n",
       "      <th>5_years_alpha_category</th>\n",
       "      <th>5_years_beta_category</th>\n",
       "      <th>5years_category_std</th>\n",
       "      <th>5_years_return_category</th>\n",
       "      <th>10years_category_r_squared</th>\n",
       "      <th>10yrs_sharpe_ratio_fund</th>\n",
       "      <th>10_years_alpha_fund</th>\n",
       "      <th>10years_fund_r_squared</th>\n",
       "      <th>10years_fund_std</th>\n",
       "      <th>10yrs_sharpe_ratio_category</th>\n",
       "      <th>10_years_beta_fund</th>\n",
       "      <th>10yrs_treynor_ratio_fund</th>\n",
       "      <th>10_years_return_mean_annual_category</th>\n",
       "      <th>10yrs_treynor_ratio_category</th>\n",
       "      <th>10_years_return_fund</th>\n",
       "      <th>10_years_alpha_category</th>\n",
       "      <th>10_years_beta_category</th>\n",
       "      <th>10years_category_std</th>\n",
       "      <th>10_years_return_mean_annual_fund</th>\n",
       "      <th>10_years_return_category</th>\n",
       "      <th>investment_class_Growth</th>\n",
       "      <th>investment_class_Value</th>\n",
       "      <th>investment_class_mode</th>\n",
       "      <th>fund_size_Medium</th>\n",
       "      <th>fund_size_Small</th>\n",
       "      <th>fund_size_unknown</th>\n",
       "    </tr>\n",
       "  </thead>\n",
       "  <tbody>\n",
       "    <tr>\n",
       "      <th>0</th>\n",
       "      <td>85a6edf9-db47-490c-981a-168ce90434bb</td>\n",
       "      <td>NaN</td>\n",
       "      <td>233</td>\n",
       "      <td>330</td>\n",
       "      <td>Nuveen Kentucky Municipal Bond Fund Class I</td>\n",
       "      <td>87272</td>\n",
       "      <td>0.66</td>\n",
       "      <td>0.0</td>\n",
       "      <td>0.0</td>\n",
       "      <td>0.0</td>\n",
       "      <td>0.0</td>\n",
       "      <td>0.0</td>\n",
       "      <td>USD</td>\n",
       "      <td>336200000.0</td>\n",
       "      <td>3.21</td>\n",
       "      <td>NaN</td>\n",
       "      <td>1997-02-06</td>\n",
       "      <td>2.71</td>\n",
       "      <td>26512</td>\n",
       "      <td>15.0</td>\n",
       "      <td>2.71</td>\n",
       "      <td>0.0</td>\n",
       "      <td>0.0</td>\n",
       "      <td>0.94</td>\n",
       "      <td>4.67</td>\n",
       "      <td>1.49</td>\n",
       "      <td>0.84</td>\n",
       "      <td>0.0</td>\n",
       "      <td>0.0</td>\n",
       "      <td>0.0</td>\n",
       "      <td>0.0</td>\n",
       "      <td>0.0</td>\n",
       "      <td>0.0</td>\n",
       "      <td>0.0</td>\n",
       "      <td>0.0</td>\n",
       "      <td>0.0</td>\n",
       "      <td>87272</td>\n",
       "      <td>0.0</td>\n",
       "      <td>0.0</td>\n",
       "      <td>-0.2</td>\n",
       "      <td>...</td>\n",
       "      <td>0.0</td>\n",
       "      <td>0.95</td>\n",
       "      <td>1.9</td>\n",
       "      <td>0.92</td>\n",
       "      <td>1.02</td>\n",
       "      <td>0.19</td>\n",
       "      <td>96.73</td>\n",
       "      <td>2.66</td>\n",
       "      <td>0.01</td>\n",
       "      <td>0.87</td>\n",
       "      <td>0.29</td>\n",
       "      <td>0.0</td>\n",
       "      <td>0.03</td>\n",
       "      <td>3.55</td>\n",
       "      <td>-0.0</td>\n",
       "      <td>0.01</td>\n",
       "      <td>0.03</td>\n",
       "      <td>3.16</td>\n",
       "      <td>0.92</td>\n",
       "      <td>1.15</td>\n",
       "      <td>0.12</td>\n",
       "      <td>97.12</td>\n",
       "      <td>3.66</td>\n",
       "      <td>0.01</td>\n",
       "      <td>0.97</td>\n",
       "      <td>4.4</td>\n",
       "      <td>0.0</td>\n",
       "      <td>0.04</td>\n",
       "      <td>4.71</td>\n",
       "      <td>-0.01</td>\n",
       "      <td>0.01</td>\n",
       "      <td>0.04</td>\n",
       "      <td>0.39</td>\n",
       "      <td>4.22</td>\n",
       "      <td>0</td>\n",
       "      <td>0</td>\n",
       "      <td>0</td>\n",
       "      <td>1</td>\n",
       "      <td>0</td>\n",
       "      <td>0</td>\n",
       "    </tr>\n",
       "  </tbody>\n",
       "</table>\n",
       "<p>1 rows × 91 columns</p>\n",
       "</div>"
      ],
      "text/plain": [
       "                                fund_id  ...  fund_size_unknown\n",
       "0  85a6edf9-db47-490c-981a-168ce90434bb  ...                  0\n",
       "\n",
       "[1 rows x 91 columns]"
      ]
     },
     "execution_count": 160,
     "metadata": {
      "tags": []
     },
     "output_type": "execute_result"
    }
   ],
   "source": [
    "test.head(1)"
   ]
  },
  {
   "cell_type": "code",
   "execution_count": 0,
   "metadata": {
    "colab": {},
    "colab_type": "code",
    "id": "l0b3lAj6QPYy",
    "scrolled": true
   },
   "outputs": [],
   "source": [
    "test=test.drop(['greatstone_rating_x','greatstone_rating_y'],axis=1)"
   ]
  },
  {
   "cell_type": "code",
   "execution_count": 162,
   "metadata": {
    "colab": {
     "base_uri": "https://localhost:8080/",
     "height": 218
    },
    "colab_type": "code",
    "id": "_EkxXsn7QPY5",
    "outputId": "06788861-231c-45f3-eefd-79cd0baad7d0"
   },
   "outputs": [
    {
     "data": {
      "text/plain": [
       "category                  0\n",
       "parent_company            0\n",
       "fund_id                   0\n",
       "fund_name                 0\n",
       "tag                       0\n",
       "                         ..\n",
       "investment_class_Value    0\n",
       "investment_class_mode     0\n",
       "fund_size_Medium          0\n",
       "fund_size_Small           0\n",
       "fund_size_unknown         0\n",
       "Length: 90, dtype: int64"
      ]
     },
     "execution_count": 162,
     "metadata": {
      "tags": []
     },
     "output_type": "execute_result"
    }
   ],
   "source": [
    "train.isnull().sum()"
   ]
  },
  {
   "cell_type": "code",
   "execution_count": 0,
   "metadata": {
    "colab": {},
    "colab_type": "code",
    "id": "4CPaZ49ZQPZB"
   },
   "outputs": [],
   "source": [
    "to_drop=['fund_id','id','currency','fund_name','greatstone_rating','inception_date']"
   ]
  },
  {
   "cell_type": "code",
   "execution_count": 0,
   "metadata": {
    "colab": {},
    "colab_type": "code",
    "id": "4YymkcKvQPZL"
   },
   "outputs": [],
   "source": [
    "to_drop_test=['fund_id','id','currency','fund_name','inception_date']"
   ]
  },
  {
   "cell_type": "code",
   "execution_count": 0,
   "metadata": {
    "colab": {},
    "colab_type": "code",
    "id": "R6MU2PIxQPZP"
   },
   "outputs": [],
   "source": [
    "#train data\n",
    "X_train = train.drop(columns=to_drop,axis=1)    # Predictors\n",
    "y_train = train.loc[:,'greatstone_rating']\n",
    "\n",
    "#test data\n",
    "X_test = test.drop(columns=to_drop_test,axis=1)    # Predictors\n",
    "\n"
   ]
  },
  {
   "cell_type": "code",
   "execution_count": 0,
   "metadata": {
    "colab": {},
    "colab_type": "code",
    "id": "lH0jzES9geWU"
   },
   "outputs": [],
   "source": [
    "#Standardization\n",
    "from sklearn.preprocessing import StandardScaler\n",
    "sc=StandardScaler()\n",
    "X_train=sc.fit_transform(X_train)\n",
    "X_test=sc.fit_transform(X_test)"
   ]
  },
  {
   "cell_type": "code",
   "execution_count": 167,
   "metadata": {
    "colab": {
     "base_uri": "https://localhost:8080/",
     "height": 34
    },
    "colab_type": "code",
    "id": "CsdwDy62Vp6s",
    "outputId": "d0fa03b1-9a8f-49bc-d9ab-7434f7793111"
   },
   "outputs": [
    {
     "name": "stdout",
     "output_type": "stream",
     "text": [
      "----timetaken is .....  54.17634391784668\n"
     ]
    }
   ],
   "source": [
    "starttime=time.time()\n",
    "\n",
    "from sklearn.impute import KNNImputer\n",
    "imp = KNNImputer(n_neighbors=5)\n",
    "\n",
    "X_train=imp.fit_transform(X_train)\n",
    "X_test=imp.fit_transform(X_test)\n",
    "\n",
    "print(\"----timetaken is ..... \", (time.time()-starttime))"
   ]
  },
  {
   "cell_type": "code",
   "execution_count": 0,
   "metadata": {
    "colab": {},
    "colab_type": "code",
    "id": "oz69UGDKQPZX"
   },
   "outputs": [],
   "source": [
    "\n",
    "from sklearn.ensemble import GradientBoostingClassifier\n",
    "\n",
    "clf = GradientBoostingClassifier(n_estimators=100, learning_rate=1.0,max_depth=1, random_state=0).fit(X_train, y_train)\n",
    "y_pred=clf.predict(X_test)"
   ]
  },
  {
   "cell_type": "markdown",
   "metadata": {
    "colab_type": "text",
    "id": "n2fhESPwQPZa"
   },
   "source": [
    "from sklearn.ensemble import RandomForestClassifier\n",
    "\n",
    "model = RandomForestClassifier(random_state=42)"
   ]
  },
  {
   "cell_type": "markdown",
   "metadata": {
    "colab_type": "text",
    "id": "h1qjM7zhQPZa"
   },
   "source": [
    "param_grid = { \n",
    "    'n_estimators': [100, 500],\n",
    "    'max_features': ['auto', 'sqrt', 'log2'],\n",
    "    'max_depth' : [4,5,6,7,8],\n",
    "    'criterion' :['gini', 'entropy']\n",
    "}\n"
   ]
  },
  {
   "cell_type": "markdown",
   "metadata": {
    "colab_type": "text",
    "id": "2TJt-Z-sQPZb"
   },
   "source": [
    "from sklearn.model_selection import GridSearchCV\n",
    "CV_model = GridSearchCV(estimator=model, param_grid=param_grid, cv= 3)\n",
    "CV_model.fit(X_train, y_train)"
   ]
  },
  {
   "cell_type": "markdown",
   "metadata": {
    "colab_type": "text",
    "id": "SPMD3_LCQPZb"
   },
   "source": [
    "\n",
    "CV_model.best_params_"
   ]
  },
  {
   "cell_type": "markdown",
   "metadata": {
    "colab_type": "text",
    "id": "dlgvEUntQPZb"
   },
   "source": [
    "\n",
    "model1=RandomForestClassifier(random_state=42, max_features='auto', n_estimators= 100, max_depth=6, criterion='gini')"
   ]
  },
  {
   "cell_type": "markdown",
   "metadata": {
    "colab_type": "text",
    "id": "NSdhZ79KQPZc"
   },
   "source": [
    "model1.fit(X_train,y_train)\n",
    "y_predict=clf1.predict(X_test)\n"
   ]
  },
  {
   "cell_type": "code",
   "execution_count": 169,
   "metadata": {
    "colab": {
     "base_uri": "https://localhost:8080/",
     "height": 34
    },
    "colab_type": "code",
    "id": "4tmYcnMpQPZc",
    "outputId": "24645bea-03b1-446c-d589-a494eccaf0de"
   },
   "outputs": [
    {
     "name": "stdout",
     "output_type": "stream",
     "text": [
      "----timetaken is .....  110.2671537399292\n"
     ]
    }
   ],
   "source": [
    "starttime=time.time()\n",
    "\n",
    "from sklearn.model_selection import cross_val_score\n",
    "from sklearn.ensemble import RandomForestClassifier\n",
    "\n",
    "clf1=RandomForestClassifier(n_estimators=1000)\n",
    "\n",
    "clf1.fit(X_train, y_train)\n",
    "\n",
    "\n",
    "y_predict=clf1.predict(X_test)\n",
    "\n",
    "\n",
    "print(\"----timetaken is ..... \", (time.time()-starttime))\n"
   ]
  },
  {
   "cell_type": "code",
   "execution_count": 0,
   "metadata": {
    "colab": {},
    "colab_type": "code",
    "id": "uEi761XplKCO"
   },
   "outputs": [],
   "source": []
  },
  {
   "cell_type": "code",
   "execution_count": 170,
   "metadata": {
    "colab": {
     "base_uri": "https://localhost:8080/",
     "height": 1000
    },
    "colab_type": "code",
    "id": "ToUgY7zvkt31",
    "outputId": "98c0d73f-e2cc-488f-c7da-7d7db06a4246"
   },
   "outputs": [
    {
     "name": "stdout",
     "output_type": "stream",
     "text": [
      "('category', 0.008147771008005279)\n",
      "('parent_company', 0.010221150438904468)\n",
      "('fund_id', 0.013542333050736238)\n",
      "('fund_name', 0.018130223850546596)\n",
      "('tag', 0.007423735018672771)\n",
      "('fund_ratio_net_annual_expense', 0.007378739846821098)\n",
      "('pb_ratio', 0.007920407079495624)\n",
      "('ps_ratio', 0.00738978517272609)\n",
      "('mmc', 0.00795591710545659)\n",
      "('pc_ratio', 0.017540895903037326)\n",
      "('pe_ratio', 0.014438398711880124)\n",
      "('currency', 0.013799375065524082)\n",
      "('total_assets', 0.032565284509360706)\n",
      "('yield', 0.01260604092752521)\n",
      "('greatstone_rating', 0.013649285470913682)\n",
      "('inception_date', 0.007835400768903333)\n",
      "('return_ytd', 0.01088664864333484)\n",
      "('inception_date_delta', 0.006668733039315593)\n",
      "('positive_year', 0.016829504548006146)\n",
      "('ytd_return_fund', 0.013468277941688762)\n",
      "('stock_percent_of_portfolio', 0.015766232481393982)\n",
      "('cash_percent_of_portfolio', 0.006209812714635347)\n",
      "('category_ratio_net_annual_expense', 0.007086794480077207)\n",
      "('1_year_return_fund', 0.007214569431312005)\n",
      "('1_month_fund_return', 0.007668515010498923)\n",
      "('2018_return_fund', 0.006688075827160673)\n",
      "('portfolio_communication_allocation', 0.0068252977131739315)\n",
      "('portfolio_financial_services', 0.00676451625572391)\n",
      "('portfolio_industrials_allocation', 0.006713564579729958)\n",
      "('portfolio_tech_allocation', 0.006401129526386451)\n",
      "('portfolio_materials_basic_allocation', 0.0059001740249226015)\n",
      "('portfolio_energy_allocation', 0.007136555743552534)\n",
      "('portfolio_consumer_defence_allocation', 0.03553839667271426)\n",
      "('portfolio_healthcare_allocation', 0.003420838225615859)\n",
      "('portfolio_property_allocation', 0.03108710648497534)\n",
      "('id', 0.007027911744605369)\n",
      "('portfolio_utils_allocation', 0.022689875142270416)\n",
      "('portfolio_cyclical_consumer_allocation', 0.011208572896049311)\n",
      "('3_years_alpha_fund', 0.0143820550326699)\n",
      "('3years_category_std', 0.01267638467910923)\n",
      "('3yrs_sharpe_ratio_fund', 0.0005769965488140927)\n",
      "('3yrs_treynor_ratio_category', 0.06487428851676506)\n",
      "('3_years_return_mean_annual_fund', 0.006878358889520096)\n",
      "('fund_beta_3years', 0.000822907932019236)\n",
      "('3years_fund_r_squared', 0.002119186558094484)\n",
      "('3years_fund_std', 0.006464772562162586)\n",
      "('category_beta_3years', 0.010725768695630142)\n",
      "('fund_return_3years', 0.005986582491174851)\n",
      "('3_years_alpha_category', 0.03643744867925758)\n",
      "('3_years_return_mean_annual_category', 0.03630270104431832)\n",
      "('3yrs_sharpe_ratio_category', 0.014019990639081603)\n",
      "('3years_category_r_squared', 0.01294729394164435)\n",
      "('3_years_return_category', 0.0038985388612877)\n",
      "('category_r_squared_5years', 0.011678967112623706)\n",
      "('5yrs_sharpe_ratio_fund', 0.02902998835210856)\n",
      "('5_years_alpha_fund', 0.0013814125592812628)\n",
      "('5years_fund_r_squared', 0.008314919469529138)\n",
      "('5years_fund_std', 0.04381067924601873)\n",
      "('5yrs_sharpe_ratio_category', 0.006375842389518194)\n",
      "('5_years_beta_fund', 0.0006127636197156601)\n",
      "('5_years_return_mean_annual_fund', 0.003941969722817597)\n",
      "('5_years_return_mean_annual_category', 0.01479268621961692)\n",
      "('5yrs_treynor_ratio_category', 0.005869224860915686)\n",
      "('5_years_return_fund', 0.02366133312701539)\n",
      "('5_years_alpha_category', 0.024539297873788828)\n",
      "('5_years_beta_category', 0.013827492313657352)\n",
      "('5years_category_std', 0.013674010046620808)\n",
      "('5_years_return_category', 0.0004893686390726534)\n",
      "('10years_category_r_squared', 0.012811132767231954)\n",
      "('10yrs_sharpe_ratio_fund', 0.02197849818360926)\n",
      "('10_years_alpha_fund', 0.0010949981336812755)\n",
      "('10years_fund_r_squared', 0.006163754440200198)\n",
      "('10years_fund_std', 0.027810319864492575)\n",
      "('10yrs_sharpe_ratio_category', 0.005245071854680458)\n",
      "('10_years_beta_fund', 0.0006477802775069784)\n",
      "('10yrs_treynor_ratio_fund', 0.004280210916515507)\n",
      "('10_years_return_mean_annual_category', 0.023952510977833377)\n",
      "('10yrs_treynor_ratio_category', 0.009945331362518177)\n",
      "('10_years_return_fund', 0.001212668809547595)\n",
      "('10_years_alpha_category', 0.001167576407963723)\n",
      "('10_years_beta_category', 0.0005610427566376361)\n",
      "('10years_category_std', 0.001068384130531175)\n",
      "('10_years_return_mean_annual_fund', 0.0006289244868597496)\n",
      "('10_years_return_category', 0.000572716950688021)\n"
     ]
    }
   ],
   "source": [
    "for feature in zip(train.columns, clf1.feature_importances_):\n",
    "    print(feature)"
   ]
  },
  {
   "cell_type": "code",
   "execution_count": 171,
   "metadata": {
    "colab": {
     "base_uri": "https://localhost:8080/",
     "height": 319
    },
    "colab_type": "code",
    "id": "zAQQNJ3TmIAH",
    "outputId": "f0aaab06-9d52-4740-e596-0f2c9f12f0e4"
   },
   "outputs": [
    {
     "data": {
      "text/plain": [
       "SelectFromModel(estimator=RandomForestClassifier(bootstrap=True, ccp_alpha=0.0,\n",
       "                                                 class_weight=None,\n",
       "                                                 criterion='gini',\n",
       "                                                 max_depth=None,\n",
       "                                                 max_features='auto',\n",
       "                                                 max_leaf_nodes=None,\n",
       "                                                 max_samples=None,\n",
       "                                                 min_impurity_decrease=0.0,\n",
       "                                                 min_impurity_split=None,\n",
       "                                                 min_samples_leaf=1,\n",
       "                                                 min_samples_split=2,\n",
       "                                                 min_weight_fraction_leaf=0.0,\n",
       "                                                 n_estimators=1000, n_jobs=None,\n",
       "                                                 oob_score=False,\n",
       "                                                 random_state=None, verbose=0,\n",
       "                                                 warm_start=False),\n",
       "                max_features=None, norm_order=1, prefit=False,\n",
       "                threshold=0.0005)"
      ]
     },
     "execution_count": 171,
     "metadata": {
      "tags": []
     },
     "output_type": "execute_result"
    }
   ],
   "source": [
    "from sklearn.feature_selection import SelectFromModel\n",
    "sfm = SelectFromModel(clf1, threshold=0.0005)\n",
    "sfm.fit(X_train, y_train)"
   ]
  },
  {
   "cell_type": "code",
   "execution_count": 0,
   "metadata": {
    "colab": {},
    "colab_type": "code",
    "id": "rbyR4zzCoWTI"
   },
   "outputs": [],
   "source": [
    "X_important_train = sfm.transform(X_train)\n",
    "X_important_test = sfm.transform(X_test)"
   ]
  },
  {
   "cell_type": "code",
   "execution_count": 0,
   "metadata": {
    "colab": {},
    "colab_type": "code",
    "id": "poLX7-gRoXfq"
   },
   "outputs": [],
   "source": [
    "clf_important = RandomForestClassifier(n_estimators=500)\n",
    "\n",
    "# Train the new classifier on the new dataset containing the most important features\n",
    "clf_important.fit(X_important_train, y_train)\n",
    "y_predict1=clf_important.predict(X_important_test)\n"
   ]
  },
  {
   "cell_type": "code",
   "execution_count": 0,
   "metadata": {
    "colab": {},
    "colab_type": "code",
    "id": "WEHi16T0QPZg"
   },
   "outputs": [],
   "source": [
    "test['greatstone_rating']=pd.DataFrame(y_predict)\n"
   ]
  },
  {
   "cell_type": "code",
   "execution_count": 182,
   "metadata": {
    "colab": {
     "base_uri": "https://localhost:8080/",
     "height": 530
    },
    "colab_type": "code",
    "id": "HwYO6C_IQPZo",
    "outputId": "1ddf4c60-8796-4339-bea2-74ffa58cf846"
   },
   "outputs": [
    {
     "data": {
      "text/html": [
       "<div>\n",
       "<style scoped>\n",
       "    .dataframe tbody tr th:only-of-type {\n",
       "        vertical-align: middle;\n",
       "    }\n",
       "\n",
       "    .dataframe tbody tr th {\n",
       "        vertical-align: top;\n",
       "    }\n",
       "\n",
       "    .dataframe thead th {\n",
       "        text-align: right;\n",
       "    }\n",
       "</style>\n",
       "<table border=\"1\" class=\"dataframe\">\n",
       "  <thead>\n",
       "    <tr style=\"text-align: right;\">\n",
       "      <th></th>\n",
       "      <th>fund_id</th>\n",
       "      <th>category</th>\n",
       "      <th>parent_company</th>\n",
       "      <th>fund_name</th>\n",
       "      <th>tag</th>\n",
       "      <th>fund_ratio_net_annual_expense</th>\n",
       "      <th>pb_ratio</th>\n",
       "      <th>ps_ratio</th>\n",
       "      <th>mmc</th>\n",
       "      <th>pc_ratio</th>\n",
       "      <th>pe_ratio</th>\n",
       "      <th>currency</th>\n",
       "      <th>total_assets</th>\n",
       "      <th>yield</th>\n",
       "      <th>inception_date</th>\n",
       "      <th>return_ytd</th>\n",
       "      <th>inception_date_delta</th>\n",
       "      <th>positive_year</th>\n",
       "      <th>ytd_return_fund</th>\n",
       "      <th>stock_percent_of_portfolio</th>\n",
       "      <th>cash_percent_of_portfolio</th>\n",
       "      <th>category_ratio_net_annual_expense</th>\n",
       "      <th>1_year_return_fund</th>\n",
       "      <th>1_month_fund_return</th>\n",
       "      <th>2018_return_fund</th>\n",
       "      <th>portfolio_communication_allocation</th>\n",
       "      <th>portfolio_financial_services</th>\n",
       "      <th>portfolio_industrials_allocation</th>\n",
       "      <th>portfolio_tech_allocation</th>\n",
       "      <th>portfolio_materials_basic_allocation</th>\n",
       "      <th>portfolio_energy_allocation</th>\n",
       "      <th>portfolio_consumer_defence_allocation</th>\n",
       "      <th>portfolio_healthcare_allocation</th>\n",
       "      <th>portfolio_property_allocation</th>\n",
       "      <th>id</th>\n",
       "      <th>portfolio_utils_allocation</th>\n",
       "      <th>portfolio_cyclical_consumer_allocation</th>\n",
       "      <th>3_years_alpha_fund</th>\n",
       "      <th>3years_category_std</th>\n",
       "      <th>3yrs_sharpe_ratio_fund</th>\n",
       "      <th>...</th>\n",
       "      <th>3years_category_r_squared</th>\n",
       "      <th>3_years_return_category</th>\n",
       "      <th>category_r_squared_5years</th>\n",
       "      <th>5yrs_sharpe_ratio_fund</th>\n",
       "      <th>5_years_alpha_fund</th>\n",
       "      <th>5years_fund_r_squared</th>\n",
       "      <th>5years_fund_std</th>\n",
       "      <th>5yrs_sharpe_ratio_category</th>\n",
       "      <th>5_years_beta_fund</th>\n",
       "      <th>5_years_return_mean_annual_fund</th>\n",
       "      <th>5_years_return_mean_annual_category</th>\n",
       "      <th>5yrs_treynor_ratio_category</th>\n",
       "      <th>5_years_return_fund</th>\n",
       "      <th>5_years_alpha_category</th>\n",
       "      <th>5_years_beta_category</th>\n",
       "      <th>5years_category_std</th>\n",
       "      <th>5_years_return_category</th>\n",
       "      <th>10years_category_r_squared</th>\n",
       "      <th>10yrs_sharpe_ratio_fund</th>\n",
       "      <th>10_years_alpha_fund</th>\n",
       "      <th>10years_fund_r_squared</th>\n",
       "      <th>10years_fund_std</th>\n",
       "      <th>10yrs_sharpe_ratio_category</th>\n",
       "      <th>10_years_beta_fund</th>\n",
       "      <th>10yrs_treynor_ratio_fund</th>\n",
       "      <th>10_years_return_mean_annual_category</th>\n",
       "      <th>10yrs_treynor_ratio_category</th>\n",
       "      <th>10_years_return_fund</th>\n",
       "      <th>10_years_alpha_category</th>\n",
       "      <th>10_years_beta_category</th>\n",
       "      <th>10years_category_std</th>\n",
       "      <th>10_years_return_mean_annual_fund</th>\n",
       "      <th>10_years_return_category</th>\n",
       "      <th>investment_class_Growth</th>\n",
       "      <th>investment_class_Value</th>\n",
       "      <th>investment_class_mode</th>\n",
       "      <th>fund_size_Medium</th>\n",
       "      <th>fund_size_Small</th>\n",
       "      <th>fund_size_unknown</th>\n",
       "      <th>greatstone_rating</th>\n",
       "    </tr>\n",
       "  </thead>\n",
       "  <tbody>\n",
       "    <tr>\n",
       "      <th>0</th>\n",
       "      <td>85a6edf9-db47-490c-981a-168ce90434bb</td>\n",
       "      <td>233</td>\n",
       "      <td>330</td>\n",
       "      <td>Nuveen Kentucky Municipal Bond Fund Class I</td>\n",
       "      <td>87272</td>\n",
       "      <td>0.66</td>\n",
       "      <td>0.00</td>\n",
       "      <td>0.00</td>\n",
       "      <td>0.00</td>\n",
       "      <td>0.00</td>\n",
       "      <td>0.00</td>\n",
       "      <td>USD</td>\n",
       "      <td>3.362000e+08</td>\n",
       "      <td>3.21</td>\n",
       "      <td>1997-02-06</td>\n",
       "      <td>2.71</td>\n",
       "      <td>26512</td>\n",
       "      <td>15.0</td>\n",
       "      <td>2.71</td>\n",
       "      <td>0.00</td>\n",
       "      <td>0.00</td>\n",
       "      <td>0.94</td>\n",
       "      <td>4.67</td>\n",
       "      <td>1.49</td>\n",
       "      <td>0.84</td>\n",
       "      <td>0.00</td>\n",
       "      <td>0.00</td>\n",
       "      <td>0.00</td>\n",
       "      <td>0.00</td>\n",
       "      <td>0.00</td>\n",
       "      <td>0.0</td>\n",
       "      <td>0.00</td>\n",
       "      <td>0.00</td>\n",
       "      <td>0.0</td>\n",
       "      <td>87272</td>\n",
       "      <td>0.00</td>\n",
       "      <td>0.00</td>\n",
       "      <td>-0.20</td>\n",
       "      <td>0.03</td>\n",
       "      <td>0.35</td>\n",
       "      <td>...</td>\n",
       "      <td>0.95</td>\n",
       "      <td>1.90</td>\n",
       "      <td>0.92</td>\n",
       "      <td>1.02</td>\n",
       "      <td>0.19</td>\n",
       "      <td>96.73</td>\n",
       "      <td>2.66</td>\n",
       "      <td>0.01</td>\n",
       "      <td>0.87</td>\n",
       "      <td>0.29</td>\n",
       "      <td>0.00</td>\n",
       "      <td>0.03</td>\n",
       "      <td>3.55</td>\n",
       "      <td>-0.00</td>\n",
       "      <td>0.01</td>\n",
       "      <td>0.03</td>\n",
       "      <td>3.16</td>\n",
       "      <td>0.92</td>\n",
       "      <td>1.15</td>\n",
       "      <td>0.12</td>\n",
       "      <td>97.12</td>\n",
       "      <td>3.66</td>\n",
       "      <td>0.01</td>\n",
       "      <td>0.97</td>\n",
       "      <td>4.40</td>\n",
       "      <td>0.00</td>\n",
       "      <td>0.04</td>\n",
       "      <td>4.71</td>\n",
       "      <td>-0.01</td>\n",
       "      <td>0.01</td>\n",
       "      <td>0.04</td>\n",
       "      <td>0.39</td>\n",
       "      <td>4.22</td>\n",
       "      <td>0</td>\n",
       "      <td>0</td>\n",
       "      <td>0</td>\n",
       "      <td>1</td>\n",
       "      <td>0</td>\n",
       "      <td>0</td>\n",
       "      <td>4.0</td>\n",
       "    </tr>\n",
       "    <tr>\n",
       "      <th>1</th>\n",
       "      <td>654dac08-5e5d-4cf0-870e-3167087de7d2</td>\n",
       "      <td>50</td>\n",
       "      <td>702</td>\n",
       "      <td>MFS Utilities Fund Class R1</td>\n",
       "      <td>160073</td>\n",
       "      <td>1.75</td>\n",
       "      <td>1.85</td>\n",
       "      <td>1.59</td>\n",
       "      <td>23043.98</td>\n",
       "      <td>6.63</td>\n",
       "      <td>17.92</td>\n",
       "      <td>USD</td>\n",
       "      <td>3.330000e+09</td>\n",
       "      <td>1.61</td>\n",
       "      <td>2005-03-31</td>\n",
       "      <td>12.01</td>\n",
       "      <td>29487</td>\n",
       "      <td>9.0</td>\n",
       "      <td>12.01</td>\n",
       "      <td>95.03</td>\n",
       "      <td>3.59</td>\n",
       "      <td>1.15</td>\n",
       "      <td>14.85</td>\n",
       "      <td>3.51</td>\n",
       "      <td>0.10</td>\n",
       "      <td>19.02</td>\n",
       "      <td>0.00</td>\n",
       "      <td>0.00</td>\n",
       "      <td>0.00</td>\n",
       "      <td>0.00</td>\n",
       "      <td>16.2</td>\n",
       "      <td>0.00</td>\n",
       "      <td>0.00</td>\n",
       "      <td>0.0</td>\n",
       "      <td>160073</td>\n",
       "      <td>64.78</td>\n",
       "      <td>0.00</td>\n",
       "      <td>3.25</td>\n",
       "      <td>0.11</td>\n",
       "      <td>0.94</td>\n",
       "      <td>...</td>\n",
       "      <td>0.13</td>\n",
       "      <td>9.39</td>\n",
       "      <td>0.16</td>\n",
       "      <td>0.41</td>\n",
       "      <td>0.05</td>\n",
       "      <td>53.49</td>\n",
       "      <td>10.75</td>\n",
       "      <td>0.01</td>\n",
       "      <td>0.71</td>\n",
       "      <td>0.43</td>\n",
       "      <td>0.01</td>\n",
       "      <td>0.25</td>\n",
       "      <td>4.68</td>\n",
       "      <td>0.06</td>\n",
       "      <td>0.00</td>\n",
       "      <td>0.12</td>\n",
       "      <td>8.87</td>\n",
       "      <td>0.29</td>\n",
       "      <td>0.97</td>\n",
       "      <td>3.04</td>\n",
       "      <td>69.89</td>\n",
       "      <td>11.92</td>\n",
       "      <td>0.01</td>\n",
       "      <td>0.72</td>\n",
       "      <td>15.98</td>\n",
       "      <td>0.01</td>\n",
       "      <td>0.30</td>\n",
       "      <td>11.89</td>\n",
       "      <td>0.07</td>\n",
       "      <td>0.00</td>\n",
       "      <td>0.11</td>\n",
       "      <td>1.00</td>\n",
       "      <td>12.25</td>\n",
       "      <td>0</td>\n",
       "      <td>1</td>\n",
       "      <td>0</td>\n",
       "      <td>0</td>\n",
       "      <td>0</td>\n",
       "      <td>0</td>\n",
       "      <td>2.0</td>\n",
       "    </tr>\n",
       "    <tr>\n",
       "      <th>2</th>\n",
       "      <td>75214019-f876-42a9-a316-328b759ac4ba</td>\n",
       "      <td>302</td>\n",
       "      <td>20</td>\n",
       "      <td>Metropolitan West Unconstrained Bond Fund Class M</td>\n",
       "      <td>166391</td>\n",
       "      <td>1.04</td>\n",
       "      <td>2.81</td>\n",
       "      <td>4.05</td>\n",
       "      <td>0.00</td>\n",
       "      <td>0.70</td>\n",
       "      <td>15.64</td>\n",
       "      <td>USD</td>\n",
       "      <td>3.100000e+09</td>\n",
       "      <td>3.50</td>\n",
       "      <td>2011-09-29</td>\n",
       "      <td>2.33</td>\n",
       "      <td>31860</td>\n",
       "      <td>5.0</td>\n",
       "      <td>2.33</td>\n",
       "      <td>0.04</td>\n",
       "      <td>9.67</td>\n",
       "      <td>1.18</td>\n",
       "      <td>3.31</td>\n",
       "      <td>0.78</td>\n",
       "      <td>0.67</td>\n",
       "      <td>0.00</td>\n",
       "      <td>0.00</td>\n",
       "      <td>0.00</td>\n",
       "      <td>0.00</td>\n",
       "      <td>0.00</td>\n",
       "      <td>0.0</td>\n",
       "      <td>0.00</td>\n",
       "      <td>0.00</td>\n",
       "      <td>0.0</td>\n",
       "      <td>166391</td>\n",
       "      <td>0.00</td>\n",
       "      <td>0.00</td>\n",
       "      <td>1.71</td>\n",
       "      <td>0.03</td>\n",
       "      <td>1.80</td>\n",
       "      <td>...</td>\n",
       "      <td>0.14</td>\n",
       "      <td>3.71</td>\n",
       "      <td>0.12</td>\n",
       "      <td>1.60</td>\n",
       "      <td>1.26</td>\n",
       "      <td>22.98</td>\n",
       "      <td>0.99</td>\n",
       "      <td>0.01</td>\n",
       "      <td>0.17</td>\n",
       "      <td>0.20</td>\n",
       "      <td>0.00</td>\n",
       "      <td>-0.13</td>\n",
       "      <td>2.40</td>\n",
       "      <td>0.01</td>\n",
       "      <td>-0.00</td>\n",
       "      <td>0.03</td>\n",
       "      <td>2.04</td>\n",
       "      <td>0.07</td>\n",
       "      <td>NaN</td>\n",
       "      <td>NaN</td>\n",
       "      <td>NaN</td>\n",
       "      <td>NaN</td>\n",
       "      <td>0.01</td>\n",
       "      <td>NaN</td>\n",
       "      <td>NaN</td>\n",
       "      <td>0.00</td>\n",
       "      <td>0.14</td>\n",
       "      <td>0.00</td>\n",
       "      <td>0.04</td>\n",
       "      <td>0.00</td>\n",
       "      <td>0.04</td>\n",
       "      <td>NaN</td>\n",
       "      <td>4.99</td>\n",
       "      <td>1</td>\n",
       "      <td>0</td>\n",
       "      <td>0</td>\n",
       "      <td>1</td>\n",
       "      <td>0</td>\n",
       "      <td>0</td>\n",
       "      <td>4.0</td>\n",
       "    </tr>\n",
       "    <tr>\n",
       "      <th>3</th>\n",
       "      <td>1fe8de6d-cd33-489e-a829-211f1f622eed</td>\n",
       "      <td>249</td>\n",
       "      <td>395</td>\n",
       "      <td>Prudential Day One 2020 Fund Class R1</td>\n",
       "      <td>183797</td>\n",
       "      <td>1.15</td>\n",
       "      <td>2.00</td>\n",
       "      <td>1.50</td>\n",
       "      <td>40535.72</td>\n",
       "      <td>7.80</td>\n",
       "      <td>15.38</td>\n",
       "      <td>USD</td>\n",
       "      <td>4.004000e+07</td>\n",
       "      <td>1.86</td>\n",
       "      <td>2016-12-12</td>\n",
       "      <td>7.05</td>\n",
       "      <td>33761</td>\n",
       "      <td>0.0</td>\n",
       "      <td>7.05</td>\n",
       "      <td>38.18</td>\n",
       "      <td>14.60</td>\n",
       "      <td>0.46</td>\n",
       "      <td>3.26</td>\n",
       "      <td>1.41</td>\n",
       "      <td>-4.70</td>\n",
       "      <td>3.18</td>\n",
       "      <td>12.30</td>\n",
       "      <td>9.85</td>\n",
       "      <td>17.68</td>\n",
       "      <td>3.21</td>\n",
       "      <td>4.6</td>\n",
       "      <td>6.78</td>\n",
       "      <td>11.67</td>\n",
       "      <td>18.0</td>\n",
       "      <td>183797</td>\n",
       "      <td>2.84</td>\n",
       "      <td>9.90</td>\n",
       "      <td>NaN</td>\n",
       "      <td>0.05</td>\n",
       "      <td>NaN</td>\n",
       "      <td>...</td>\n",
       "      <td>0.94</td>\n",
       "      <td>6.57</td>\n",
       "      <td>0.94</td>\n",
       "      <td>NaN</td>\n",
       "      <td>NaN</td>\n",
       "      <td>NaN</td>\n",
       "      <td>NaN</td>\n",
       "      <td>0.01</td>\n",
       "      <td>NaN</td>\n",
       "      <td>NaN</td>\n",
       "      <td>0.00</td>\n",
       "      <td>0.04</td>\n",
       "      <td>0.00</td>\n",
       "      <td>-0.00</td>\n",
       "      <td>0.01</td>\n",
       "      <td>0.06</td>\n",
       "      <td>4.58</td>\n",
       "      <td>0.94</td>\n",
       "      <td>NaN</td>\n",
       "      <td>NaN</td>\n",
       "      <td>NaN</td>\n",
       "      <td>NaN</td>\n",
       "      <td>0.01</td>\n",
       "      <td>NaN</td>\n",
       "      <td>NaN</td>\n",
       "      <td>0.01</td>\n",
       "      <td>0.09</td>\n",
       "      <td>0.00</td>\n",
       "      <td>-0.00</td>\n",
       "      <td>0.01</td>\n",
       "      <td>0.08</td>\n",
       "      <td>NaN</td>\n",
       "      <td>9.23</td>\n",
       "      <td>0</td>\n",
       "      <td>0</td>\n",
       "      <td>0</td>\n",
       "      <td>0</td>\n",
       "      <td>0</td>\n",
       "      <td>0</td>\n",
       "      <td>0.0</td>\n",
       "    </tr>\n",
       "    <tr>\n",
       "      <th>4</th>\n",
       "      <td>bd87a7a0-6ca5-4607-a0cf-d396ecd6037a</td>\n",
       "      <td>1335</td>\n",
       "      <td>395</td>\n",
       "      <td>PGIM Jennison Growth Fund- Class C</td>\n",
       "      <td>190232</td>\n",
       "      <td>1.69</td>\n",
       "      <td>7.77</td>\n",
       "      <td>4.16</td>\n",
       "      <td>151311.23</td>\n",
       "      <td>19.14</td>\n",
       "      <td>29.25</td>\n",
       "      <td>USD</td>\n",
       "      <td>3.910455e+09</td>\n",
       "      <td>0.00</td>\n",
       "      <td>1995-11-01</td>\n",
       "      <td>17.23</td>\n",
       "      <td>26049</td>\n",
       "      <td>9.0</td>\n",
       "      <td>17.23</td>\n",
       "      <td>99.45</td>\n",
       "      <td>0.55</td>\n",
       "      <td>1.06</td>\n",
       "      <td>10.51</td>\n",
       "      <td>2.19</td>\n",
       "      <td>-1.89</td>\n",
       "      <td>0.77</td>\n",
       "      <td>11.48</td>\n",
       "      <td>7.92</td>\n",
       "      <td>36.96</td>\n",
       "      <td>0.00</td>\n",
       "      <td>0.0</td>\n",
       "      <td>3.99</td>\n",
       "      <td>14.26</td>\n",
       "      <td>1.0</td>\n",
       "      <td>190232</td>\n",
       "      <td>0.00</td>\n",
       "      <td>23.61</td>\n",
       "      <td>2.42</td>\n",
       "      <td>0.13</td>\n",
       "      <td>1.15</td>\n",
       "      <td>...</td>\n",
       "      <td>0.84</td>\n",
       "      <td>15.35</td>\n",
       "      <td>0.86</td>\n",
       "      <td>0.89</td>\n",
       "      <td>0.96</td>\n",
       "      <td>80.13</td>\n",
       "      <td>13.86</td>\n",
       "      <td>0.01</td>\n",
       "      <td>1.11</td>\n",
       "      <td>1.09</td>\n",
       "      <td>0.01</td>\n",
       "      <td>0.10</td>\n",
       "      <td>12.84</td>\n",
       "      <td>-0.00</td>\n",
       "      <td>0.01</td>\n",
       "      <td>0.13</td>\n",
       "      <td>11.26</td>\n",
       "      <td>0.88</td>\n",
       "      <td>1.06</td>\n",
       "      <td>-0.46</td>\n",
       "      <td>83.12</td>\n",
       "      <td>14.80</td>\n",
       "      <td>0.01</td>\n",
       "      <td>1.06</td>\n",
       "      <td>14.78</td>\n",
       "      <td>0.01</td>\n",
       "      <td>0.15</td>\n",
       "      <td>16.15</td>\n",
       "      <td>-0.01</td>\n",
       "      <td>0.01</td>\n",
       "      <td>0.14</td>\n",
       "      <td>1.35</td>\n",
       "      <td>15.94</td>\n",
       "      <td>1</td>\n",
       "      <td>0</td>\n",
       "      <td>0</td>\n",
       "      <td>0</td>\n",
       "      <td>0</td>\n",
       "      <td>0</td>\n",
       "      <td>3.0</td>\n",
       "    </tr>\n",
       "  </tbody>\n",
       "</table>\n",
       "<p>5 rows × 90 columns</p>\n",
       "</div>"
      ],
      "text/plain": [
       "                                fund_id  ...  greatstone_rating\n",
       "0  85a6edf9-db47-490c-981a-168ce90434bb  ...                4.0\n",
       "1  654dac08-5e5d-4cf0-870e-3167087de7d2  ...                2.0\n",
       "2  75214019-f876-42a9-a316-328b759ac4ba  ...                4.0\n",
       "3  1fe8de6d-cd33-489e-a829-211f1f622eed  ...                0.0\n",
       "4  bd87a7a0-6ca5-4607-a0cf-d396ecd6037a  ...                3.0\n",
       "\n",
       "[5 rows x 90 columns]"
      ]
     },
     "execution_count": 182,
     "metadata": {
      "tags": []
     },
     "output_type": "execute_result"
    }
   ],
   "source": [
    "test.head()"
   ]
  },
  {
   "cell_type": "code",
   "execution_count": 0,
   "metadata": {
    "colab": {},
    "colab_type": "code",
    "id": "fOwC_rmyQPZs"
   },
   "outputs": [],
   "source": [
    "sample_submission1=test[['fund_id','greatstone_rating']]"
   ]
  },
  {
   "cell_type": "code",
   "execution_count": 184,
   "metadata": {
    "colab": {
     "base_uri": "https://localhost:8080/",
     "height": 195
    },
    "colab_type": "code",
    "id": "IZSkvhITQPZv",
    "outputId": "998b22b5-7a99-4003-c319-40a35bbf3a3e"
   },
   "outputs": [
    {
     "data": {
      "text/html": [
       "<div>\n",
       "<style scoped>\n",
       "    .dataframe tbody tr th:only-of-type {\n",
       "        vertical-align: middle;\n",
       "    }\n",
       "\n",
       "    .dataframe tbody tr th {\n",
       "        vertical-align: top;\n",
       "    }\n",
       "\n",
       "    .dataframe thead th {\n",
       "        text-align: right;\n",
       "    }\n",
       "</style>\n",
       "<table border=\"1\" class=\"dataframe\">\n",
       "  <thead>\n",
       "    <tr style=\"text-align: right;\">\n",
       "      <th></th>\n",
       "      <th>fund_id</th>\n",
       "      <th>greatstone_rating</th>\n",
       "    </tr>\n",
       "  </thead>\n",
       "  <tbody>\n",
       "    <tr>\n",
       "      <th>0</th>\n",
       "      <td>85a6edf9-db47-490c-981a-168ce90434bb</td>\n",
       "      <td>4.0</td>\n",
       "    </tr>\n",
       "    <tr>\n",
       "      <th>1</th>\n",
       "      <td>654dac08-5e5d-4cf0-870e-3167087de7d2</td>\n",
       "      <td>2.0</td>\n",
       "    </tr>\n",
       "    <tr>\n",
       "      <th>2</th>\n",
       "      <td>75214019-f876-42a9-a316-328b759ac4ba</td>\n",
       "      <td>4.0</td>\n",
       "    </tr>\n",
       "    <tr>\n",
       "      <th>3</th>\n",
       "      <td>1fe8de6d-cd33-489e-a829-211f1f622eed</td>\n",
       "      <td>0.0</td>\n",
       "    </tr>\n",
       "    <tr>\n",
       "      <th>4</th>\n",
       "      <td>bd87a7a0-6ca5-4607-a0cf-d396ecd6037a</td>\n",
       "      <td>3.0</td>\n",
       "    </tr>\n",
       "  </tbody>\n",
       "</table>\n",
       "</div>"
      ],
      "text/plain": [
       "                                fund_id  greatstone_rating\n",
       "0  85a6edf9-db47-490c-981a-168ce90434bb                4.0\n",
       "1  654dac08-5e5d-4cf0-870e-3167087de7d2                2.0\n",
       "2  75214019-f876-42a9-a316-328b759ac4ba                4.0\n",
       "3  1fe8de6d-cd33-489e-a829-211f1f622eed                0.0\n",
       "4  bd87a7a0-6ca5-4607-a0cf-d396ecd6037a                3.0"
      ]
     },
     "execution_count": 184,
     "metadata": {
      "tags": []
     },
     "output_type": "execute_result"
    }
   ],
   "source": [
    "sample_submission1.head()"
   ]
  },
  {
   "cell_type": "code",
   "execution_count": 0,
   "metadata": {
    "colab": {},
    "colab_type": "code",
    "id": "IMLyfbpMQPZx"
   },
   "outputs": [],
   "source": [
    "sample_submission1.to_csv('samplefile3.csv',index=False)"
   ]
  },
  {
   "cell_type": "code",
   "execution_count": 0,
   "metadata": {
    "colab": {},
    "colab_type": "code",
    "id": "ZwicXtq7NvXr"
   },
   "outputs": [],
   "source": []
  },
  {
   "cell_type": "code",
   "execution_count": 0,
   "metadata": {
    "colab": {},
    "colab_type": "code",
    "id": "HfQEvxSLh6t5"
   },
   "outputs": [],
   "source": []
  }
 ],
 "metadata": {
  "colab": {
   "collapsed_sections": [],
   "name": "GL Hackathon file.ipynb",
   "provenance": []
  },
  "kernelspec": {
   "display_name": "Python 3",
   "language": "python",
   "name": "python3"
  },
  "language_info": {
   "codemirror_mode": {
    "name": "ipython",
    "version": 3
   },
   "file_extension": ".py",
   "mimetype": "text/x-python",
   "name": "python",
   "nbconvert_exporter": "python",
   "pygments_lexer": "ipython3",
   "version": "3.6.10"
  }
 },
 "nbformat": 4,
 "nbformat_minor": 1
}
